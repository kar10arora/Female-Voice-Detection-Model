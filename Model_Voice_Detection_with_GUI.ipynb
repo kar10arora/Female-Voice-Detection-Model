{
 "cells": [
  {
   "cell_type": "code",
   "execution_count": 49,
   "id": "76601d0a-cae0-46e4-ad67-a6f37df2febd",
   "metadata": {},
   "outputs": [],
   "source": [
    "import os"
   ]
  },
  {
   "cell_type": "markdown",
   "id": "0952f486-63f9-43ee-99c8-322b99113705",
   "metadata": {},
   "source": [
    "## Setting up the kaggle environment instead of downloading the dataset"
   ]
  },
  {
   "cell_type": "code",
   "execution_count": 50,
   "id": "075fe79f-614e-4c85-8cb9-19a69cbce7ea",
   "metadata": {},
   "outputs": [],
   "source": [
    "os.environ['KAGGLE_CONFIG_DIR'] = \"Female-voice-emotion-detection/\""
   ]
  },
  {
   "cell_type": "code",
   "execution_count": 51,
   "id": "cb980ca0-a13f-41ff-954b-a5e563de9e89",
   "metadata": {},
   "outputs": [
    {
     "name": "stdout",
     "output_type": "stream",
     "text": [
      "Dataset URL: https://www.kaggle.com/datasets/uwrfkaggler/ravdess-emotional-speech-audio\n",
      "License(s): CC-BY-NC-SA-4.0\n",
      "Downloading ravdess-emotional-speech-audio.zip to /content/data\n",
      "\n"
     ]
    },
    {
     "name": "stderr",
     "output_type": "stream",
     "text": [
      "\n",
      "  0%|          | 0.00/429M [00:00<?, ?B/s]\n",
      "  0%|          | 1.00M/429M [00:00<06:51, 1.09MB/s]\n",
      "  0%|          | 2.00M/429M [00:01<03:39, 2.04MB/s]\n",
      "  1%|          | 3.00M/429M [00:01<02:22, 3.15MB/s]\n",
      "  1%|          | 4.00M/429M [00:01<01:51, 3.99MB/s]\n",
      "  1%|1         | 5.00M/429M [00:01<01:30, 4.89MB/s]\n",
      "  1%|1         | 6.00M/429M [00:01<01:20, 5.48MB/s]\n",
      "  2%|1         | 7.00M/429M [00:01<01:19, 5.56MB/s]\n",
      "  2%|1         | 8.00M/429M [00:02<01:16, 5.80MB/s]\n",
      "  2%|2         | 9.00M/429M [00:02<01:17, 5.71MB/s]\n",
      "  2%|2         | 10.0M/429M [00:02<01:11, 6.12MB/s]\n",
      "  3%|2         | 11.0M/429M [00:02<01:17, 5.64MB/s]\n",
      "  3%|2         | 12.0M/429M [00:02<01:15, 5.77MB/s]\n",
      "  3%|3         | 13.0M/429M [00:02<01:15, 5.78MB/s]\n",
      "  3%|3         | 14.0M/429M [00:03<01:13, 5.93MB/s]\n",
      "  3%|3         | 15.0M/429M [00:03<01:17, 5.62MB/s]\n",
      "  4%|3         | 16.0M/429M [00:03<01:10, 6.13MB/s]\n",
      "  4%|3         | 17.0M/429M [00:03<01:11, 6.03MB/s]\n",
      "  4%|4         | 18.0M/429M [00:03<01:16, 5.63MB/s]\n",
      "  4%|4         | 19.0M/429M [00:04<01:14, 5.77MB/s]\n",
      "  5%|4         | 20.0M/429M [00:04<01:11, 6.03MB/s]\n",
      "  5%|4         | 21.0M/429M [00:04<01:07, 6.32MB/s]\n",
      "  5%|5         | 22.0M/429M [00:04<01:08, 6.28MB/s]\n",
      "  5%|5         | 23.0M/429M [00:05<01:55, 3.68MB/s]\n",
      "  6%|6         | 26.0M/429M [00:05<01:05, 6.44MB/s]\n",
      "  6%|6         | 27.0M/429M [00:05<01:06, 6.34MB/s]\n",
      "  7%|6         | 28.0M/429M [00:05<01:07, 6.24MB/s]\n",
      "  7%|6         | 29.0M/429M [00:05<01:08, 6.11MB/s]\n",
      "  7%|6         | 30.0M/429M [00:05<01:08, 6.12MB/s]\n",
      "  7%|7         | 31.0M/429M [00:06<01:09, 6.03MB/s]\n",
      "  7%|7         | 32.0M/429M [00:06<01:09, 5.98MB/s]\n",
      "  8%|7         | 33.0M/429M [00:06<01:09, 5.95MB/s]\n",
      "  8%|7         | 34.0M/429M [00:06<01:08, 6.02MB/s]\n",
      "  8%|8         | 35.0M/429M [00:06<01:05, 6.33MB/s]\n",
      "  8%|8         | 36.0M/429M [00:07<01:11, 5.78MB/s]\n",
      "  9%|8         | 38.0M/429M [00:07<00:59, 6.85MB/s]\n",
      "  9%|9         | 39.0M/429M [00:07<01:38, 4.17MB/s]\n",
      " 10%|9         | 42.0M/429M [00:08<01:00, 6.72MB/s]\n",
      " 10%|#         | 43.0M/429M [00:08<01:05, 6.17MB/s]\n",
      " 10%|#         | 44.0M/429M [00:08<01:02, 6.46MB/s]\n",
      " 10%|#         | 45.0M/429M [00:08<01:04, 6.24MB/s]\n",
      " 11%|#         | 46.0M/429M [00:08<01:08, 5.86MB/s]\n",
      " 11%|#         | 47.0M/429M [00:08<01:04, 6.18MB/s]\n",
      " 11%|#1        | 48.0M/429M [00:09<01:06, 5.99MB/s]\n",
      " 11%|#1        | 49.0M/429M [00:09<01:06, 5.96MB/s]\n",
      " 12%|#1        | 50.0M/429M [00:09<01:07, 5.93MB/s]\n",
      " 12%|#1        | 51.0M/429M [00:09<00:59, 6.65MB/s]\n",
      " 12%|#2        | 52.0M/429M [00:09<01:01, 6.40MB/s]\n",
      " 12%|#2        | 53.0M/429M [00:09<01:03, 6.26MB/s]\n",
      " 13%|#2        | 54.0M/429M [00:10<01:10, 5.57MB/s]\n",
      " 13%|#2        | 55.0M/429M [00:10<01:02, 6.30MB/s]\n",
      " 13%|#3        | 56.0M/429M [00:10<01:00, 6.52MB/s]\n",
      " 13%|#3        | 57.0M/429M [00:10<01:00, 6.50MB/s]\n",
      " 14%|#3        | 58.0M/429M [00:10<01:06, 5.90MB/s]\n",
      " 14%|#3        | 59.0M/429M [00:10<01:02, 6.24MB/s]\n",
      " 14%|#3        | 60.0M/429M [00:11<01:04, 6.04MB/s]\n",
      " 14%|#4        | 61.0M/429M [00:11<01:04, 5.96MB/s]\n",
      " 14%|#4        | 62.0M/429M [00:11<01:05, 5.90MB/s]\n",
      " 15%|#4        | 63.0M/429M [00:11<01:08, 5.59MB/s]\n",
      " 15%|#4        | 64.0M/429M [00:11<01:09, 5.54MB/s]\n",
      " 15%|#5        | 65.0M/429M [00:12<01:04, 5.96MB/s]\n",
      " 15%|#5        | 66.0M/429M [00:12<01:05, 5.82MB/s]\n",
      " 16%|#5        | 67.0M/429M [00:12<01:05, 5.84MB/s]\n",
      " 16%|#5        | 68.0M/429M [00:12<01:01, 6.12MB/s]\n",
      " 16%|#6        | 69.0M/429M [00:12<00:59, 6.36MB/s]\n",
      " 16%|#6        | 70.0M/429M [00:12<01:04, 5.83MB/s]\n",
      " 17%|#6        | 71.0M/429M [00:13<01:00, 6.18MB/s]\n",
      " 17%|#6        | 72.0M/429M [00:13<00:58, 6.40MB/s]\n",
      " 17%|#7        | 73.0M/429M [00:13<01:01, 6.03MB/s]\n",
      " 17%|#7        | 74.0M/429M [00:13<00:59, 6.27MB/s]\n",
      " 17%|#7        | 75.0M/429M [00:13<01:03, 5.83MB/s]\n",
      " 18%|#7        | 76.0M/429M [00:13<00:59, 6.20MB/s]\n",
      " 18%|#7        | 77.0M/429M [00:14<01:04, 5.76MB/s]\n",
      " 18%|#8        | 78.0M/429M [00:14<01:15, 4.90MB/s]\n",
      " 19%|#8        | 80.0M/429M [00:14<00:59, 6.14MB/s]\n",
      " 19%|#8        | 81.0M/429M [00:14<01:00, 6.00MB/s]\n",
      " 19%|#9        | 82.0M/429M [00:15<01:01, 5.88MB/s]\n",
      " 19%|#9        | 83.0M/429M [00:15<01:00, 5.98MB/s]\n",
      " 20%|#9        | 84.0M/429M [00:15<00:56, 6.35MB/s]\n",
      " 20%|#9        | 85.0M/429M [00:15<01:08, 5.29MB/s]\n",
      " 20%|##        | 87.0M/429M [00:15<00:54, 6.53MB/s]\n",
      " 21%|##        | 88.0M/429M [00:16<00:54, 6.51MB/s]\n",
      " 21%|##        | 89.0M/429M [00:16<01:05, 5.43MB/s]\n",
      " 21%|##        | 90.0M/429M [00:16<00:58, 6.06MB/s]\n",
      " 21%|##1       | 91.0M/429M [00:16<00:57, 6.16MB/s]\n",
      " 21%|##1       | 92.0M/429M [00:16<00:54, 6.43MB/s]\n",
      " 22%|##1       | 93.0M/429M [00:16<00:57, 6.11MB/s]\n",
      " 22%|##1       | 94.0M/429M [00:17<00:54, 6.48MB/s]\n",
      " 22%|##2       | 95.0M/429M [00:17<00:54, 6.41MB/s]\n",
      " 22%|##2       | 96.0M/429M [00:17<01:00, 5.80MB/s]\n",
      " 23%|##2       | 97.0M/429M [00:17<00:55, 6.26MB/s]\n",
      " 23%|##2       | 98.0M/429M [00:17<01:00, 5.78MB/s]\n",
      " 23%|##3       | 99.0M/429M [00:18<01:00, 5.75MB/s]\n",
      " 23%|##3       | 100M/429M [00:18<00:56, 6.10MB/s] \n",
      " 24%|##3       | 101M/429M [00:18<01:32, 3.74MB/s]\n",
      " 24%|##4       | 104M/429M [00:18<00:52, 6.54MB/s]\n",
      " 24%|##4       | 105M/429M [00:19<00:51, 6.66MB/s]\n",
      " 25%|##4       | 106M/429M [00:19<00:54, 6.22MB/s]\n",
      " 25%|##4       | 107M/429M [00:19<00:52, 6.39MB/s]\n",
      " 25%|##5       | 108M/429M [00:19<00:53, 6.35MB/s]\n",
      " 25%|##5       | 109M/429M [00:19<01:13, 4.58MB/s]\n",
      " 26%|##5       | 111M/429M [00:20<00:48, 6.95MB/s]\n",
      " 26%|##6       | 112M/429M [00:20<00:52, 6.32MB/s]\n",
      " 26%|##6       | 113M/429M [00:20<00:50, 6.62MB/s]\n",
      " 27%|##6       | 114M/429M [00:20<00:55, 6.01MB/s]\n",
      " 27%|##6       | 115M/429M [00:20<00:52, 6.29MB/s]\n",
      " 27%|##7       | 116M/429M [00:21<01:18, 4.20MB/s]\n",
      " 27%|##7       | 118M/429M [00:21<00:53, 6.14MB/s]\n",
      " 28%|##7       | 119M/429M [00:21<00:51, 6.37MB/s]\n",
      " 28%|##7       | 120M/429M [00:21<00:48, 6.65MB/s]\n",
      " 28%|##8       | 121M/429M [00:21<00:49, 6.46MB/s]\n",
      " 28%|##8       | 122M/429M [00:22<00:50, 6.42MB/s]\n",
      " 29%|##8       | 123M/429M [00:22<00:50, 6.39MB/s]\n",
      " 29%|##8       | 124M/429M [00:22<00:57, 5.59MB/s]\n",
      " 29%|##9       | 125M/429M [00:22<00:51, 6.20MB/s]\n",
      " 29%|##9       | 126M/429M [00:22<00:51, 6.20MB/s]\n",
      " 30%|##9       | 127M/429M [00:22<00:50, 6.31MB/s]\n",
      " 30%|##9       | 128M/429M [00:23<00:50, 6.20MB/s]\n",
      " 30%|###       | 129M/429M [00:23<01:03, 4.95MB/s]\n",
      " 30%|###       | 130M/429M [00:23<00:54, 5.72MB/s]\n",
      " 31%|###       | 131M/429M [00:23<00:49, 6.30MB/s]\n",
      " 31%|###       | 132M/429M [00:23<00:53, 5.86MB/s]\n",
      " 31%|###       | 133M/429M [00:23<00:48, 6.45MB/s]\n",
      " 31%|###1      | 134M/429M [00:24<00:50, 6.17MB/s]\n",
      " 31%|###1      | 135M/429M [00:24<00:49, 6.19MB/s]\n",
      " 32%|###1      | 136M/429M [00:24<00:50, 6.05MB/s]\n",
      " 32%|###1      | 137M/429M [00:24<00:50, 6.03MB/s]\n",
      " 32%|###2      | 138M/429M [00:24<00:50, 6.02MB/s]\n",
      " 32%|###2      | 139M/429M [00:25<00:49, 6.10MB/s]\n",
      " 33%|###2      | 140M/429M [00:25<00:50, 5.99MB/s]\n",
      " 33%|###2      | 141M/429M [00:25<00:51, 5.92MB/s]\n",
      " 33%|###3      | 142M/429M [00:25<00:48, 6.19MB/s]\n",
      " 33%|###3      | 143M/429M [00:25<00:51, 5.83MB/s]\n",
      " 34%|###3      | 144M/429M [00:25<00:50, 5.94MB/s]\n",
      " 34%|###3      | 145M/429M [00:26<00:47, 6.26MB/s]\n",
      " 34%|###4      | 146M/429M [00:26<00:48, 6.07MB/s]\n",
      " 34%|###4      | 147M/429M [00:26<00:49, 5.97MB/s]\n",
      " 34%|###4      | 148M/429M [00:26<01:19, 3.72MB/s]\n",
      " 35%|###5      | 151M/429M [00:27<00:44, 6.49MB/s]\n",
      " 35%|###5      | 152M/429M [00:27<00:45, 6.43MB/s]\n",
      " 36%|###5      | 153M/429M [00:27<00:44, 6.44MB/s]\n",
      " 36%|###5      | 154M/429M [00:27<00:45, 6.32MB/s]\n",
      " 36%|###6      | 155M/429M [00:27<00:49, 5.77MB/s]\n",
      " 36%|###6      | 156M/429M [00:28<00:49, 5.75MB/s]\n",
      " 37%|###6      | 157M/429M [00:28<00:49, 5.79MB/s]\n",
      " 37%|###6      | 158M/429M [00:28<00:46, 6.07MB/s]\n",
      " 37%|###7      | 159M/429M [00:29<01:42, 2.76MB/s]\n",
      " 38%|###7      | 162M/429M [00:29<00:52, 5.32MB/s]\n",
      " 38%|###7      | 163M/429M [00:29<00:47, 5.88MB/s]\n",
      " 38%|###8      | 164M/429M [00:29<00:47, 5.89MB/s]\n",
      " 38%|###8      | 165M/429M [00:29<00:44, 6.26MB/s]\n",
      " 39%|###8      | 166M/429M [00:30<00:44, 6.26MB/s]\n",
      " 39%|###8      | 167M/429M [00:30<00:42, 6.49MB/s]\n",
      " 39%|###9      | 168M/429M [00:30<00:45, 5.99MB/s]\n",
      " 39%|###9      | 169M/429M [00:30<00:44, 6.18MB/s]\n",
      " 40%|###9      | 170M/429M [00:30<00:46, 5.81MB/s]\n",
      " 40%|###9      | 171M/429M [00:30<00:47, 5.74MB/s]\n",
      " 40%|####      | 172M/429M [00:31<00:46, 5.84MB/s]\n",
      " 40%|####      | 173M/429M [00:31<00:45, 5.95MB/s]\n",
      " 41%|####      | 174M/429M [00:31<00:45, 5.86MB/s]\n",
      " 41%|####      | 175M/429M [00:31<00:46, 5.78MB/s]\n",
      " 41%|####1     | 176M/429M [00:31<00:46, 5.77MB/s]\n",
      " 41%|####1     | 177M/429M [00:32<00:50, 5.25MB/s]\n",
      " 41%|####1     | 178M/429M [00:32<00:43, 5.99MB/s]\n",
      " 42%|####1     | 179M/429M [00:32<00:42, 6.18MB/s]\n",
      " 42%|####1     | 180M/429M [00:32<00:46, 5.66MB/s]\n",
      " 42%|####2     | 181M/429M [00:32<00:40, 6.49MB/s]\n",
      " 42%|####2     | 182M/429M [00:32<00:42, 6.15MB/s]\n",
      " 43%|####2     | 183M/429M [00:33<00:41, 6.22MB/s]\n",
      " 43%|####2     | 184M/429M [00:33<00:40, 6.43MB/s]\n",
      " 43%|####3     | 185M/429M [00:33<00:41, 6.20MB/s]\n",
      " 43%|####3     | 186M/429M [00:33<00:41, 6.11MB/s]\n",
      " 44%|####3     | 187M/429M [00:33<00:41, 6.16MB/s]\n",
      " 44%|####3     | 188M/429M [00:33<00:42, 5.92MB/s]\n",
      " 44%|####4     | 189M/429M [00:34<00:41, 6.04MB/s]\n",
      " 44%|####4     | 190M/429M [00:34<00:42, 5.94MB/s]\n",
      " 44%|####4     | 191M/429M [00:34<00:41, 6.04MB/s]\n",
      " 45%|####4     | 192M/429M [00:34<00:41, 5.98MB/s]\n",
      " 45%|####4     | 193M/429M [00:34<00:45, 5.49MB/s]\n",
      " 45%|####5     | 194M/429M [00:34<00:40, 6.07MB/s]\n",
      " 45%|####5     | 195M/429M [00:35<00:39, 6.15MB/s]\n",
      " 46%|####5     | 196M/429M [00:35<00:38, 6.35MB/s]\n",
      " 46%|####5     | 197M/429M [00:35<00:42, 5.66MB/s]\n",
      " 46%|####6     | 198M/429M [00:35<00:49, 4.93MB/s]\n",
      " 46%|####6     | 199M/429M [00:36<00:53, 4.49MB/s]\n",
      " 47%|####6     | 200M/429M [00:36<00:55, 4.35MB/s]\n",
      " 47%|####6     | 201M/429M [00:36<00:54, 4.36MB/s]\n",
      " 47%|####7     | 202M/429M [00:36<00:55, 4.30MB/s]\n",
      " 47%|####7     | 203M/429M [00:37<00:56, 4.23MB/s]\n",
      " 48%|####7     | 204M/429M [00:37<00:56, 4.20MB/s]\n",
      " 48%|####7     | 205M/429M [00:37<00:56, 4.19MB/s]\n",
      " 48%|####7     | 206M/429M [00:37<00:46, 5.00MB/s]\n",
      " 48%|####8     | 207M/429M [00:37<00:39, 5.90MB/s]\n",
      " 48%|####8     | 208M/429M [00:37<00:39, 5.94MB/s]\n",
      " 49%|####8     | 209M/429M [00:38<00:35, 6.50MB/s]\n",
      " 49%|####8     | 210M/429M [00:38<00:38, 6.01MB/s]\n",
      " 49%|####9     | 211M/429M [00:38<00:38, 6.02MB/s]\n",
      " 49%|####9     | 212M/429M [00:38<00:38, 5.96MB/s]\n",
      " 50%|####9     | 213M/429M [00:38<00:44, 5.06MB/s]\n",
      " 50%|#####     | 215M/429M [00:39<00:35, 6.29MB/s]\n",
      " 50%|#####     | 216M/429M [00:39<00:35, 6.22MB/s]\n",
      " 51%|#####     | 217M/429M [00:39<00:37, 5.99MB/s]\n",
      " 51%|#####     | 218M/429M [00:39<00:38, 5.68MB/s]\n",
      " 51%|#####1    | 219M/429M [00:39<00:37, 5.93MB/s]\n",
      " 51%|#####1    | 220M/429M [00:40<00:37, 5.92MB/s]\n",
      " 51%|#####1    | 221M/429M [00:40<00:37, 5.83MB/s]\n",
      " 52%|#####1    | 222M/429M [00:40<00:37, 5.84MB/s]\n",
      " 52%|#####1    | 223M/429M [00:40<00:38, 5.58MB/s]\n",
      " 52%|#####2    | 225M/429M [00:40<00:32, 6.53MB/s]\n",
      " 53%|#####2    | 226M/429M [00:41<00:34, 6.25MB/s]\n",
      " 53%|#####2    | 227M/429M [00:41<00:34, 6.14MB/s]\n",
      " 53%|#####3    | 228M/429M [00:41<00:33, 6.23MB/s]\n",
      " 53%|#####3    | 229M/429M [00:41<00:41, 5.07MB/s]\n",
      " 54%|#####3    | 231M/429M [00:41<00:33, 6.23MB/s]\n",
      " 54%|#####4    | 232M/429M [00:42<00:33, 6.16MB/s]\n",
      " 54%|#####4    | 233M/429M [00:42<00:33, 6.10MB/s]\n",
      " 55%|#####4    | 234M/429M [00:42<00:33, 6.05MB/s]\n",
      " 55%|#####4    | 235M/429M [00:42<00:34, 5.90MB/s]\n",
      " 55%|#####4    | 236M/429M [00:42<00:36, 5.53MB/s]\n",
      " 55%|#####5    | 237M/429M [00:43<00:34, 5.76MB/s]\n",
      " 55%|#####5    | 238M/429M [00:43<00:35, 5.71MB/s]\n",
      " 56%|#####5    | 239M/429M [00:43<00:35, 5.65MB/s]\n",
      " 56%|#####5    | 240M/429M [00:43<00:30, 6.43MB/s]\n",
      " 56%|#####6    | 241M/429M [00:43<00:29, 6.61MB/s]\n",
      " 56%|#####6    | 242M/429M [00:43<00:30, 6.38MB/s]\n",
      " 57%|#####6    | 243M/429M [00:44<00:31, 6.28MB/s]\n",
      " 57%|#####6    | 244M/429M [00:44<00:46, 4.14MB/s]\n",
      " 58%|#####7    | 247M/429M [00:44<00:29, 6.55MB/s]\n",
      " 58%|#####7    | 248M/429M [00:44<00:28, 6.67MB/s]\n",
      " 58%|#####8    | 249M/429M [00:45<00:29, 6.43MB/s]\n",
      " 58%|#####8    | 250M/429M [00:45<00:35, 5.25MB/s]\n",
      " 58%|#####8    | 251M/429M [00:46<00:56, 3.31MB/s]\n",
      " 59%|#####9    | 254M/429M [00:46<00:30, 5.94MB/s]\n",
      " 59%|#####9    | 255M/429M [00:46<00:28, 6.31MB/s]\n",
      " 60%|#####9    | 256M/429M [00:46<00:27, 6.69MB/s]\n",
      " 60%|#####9    | 257M/429M [00:46<00:28, 6.29MB/s]\n",
      " 60%|######    | 258M/429M [00:46<00:29, 6.09MB/s]\n",
      " 60%|######    | 259M/429M [00:46<00:27, 6.46MB/s]\n",
      " 61%|######    | 260M/429M [00:47<00:26, 6.65MB/s]\n",
      " 61%|######    | 261M/429M [00:47<00:27, 6.42MB/s]\n",
      " 61%|######1   | 262M/429M [00:47<00:28, 6.18MB/s]\n",
      " 61%|######1   | 263M/429M [00:47<00:29, 5.92MB/s]\n",
      " 62%|######1   | 264M/429M [00:47<00:28, 6.13MB/s]\n",
      " 62%|######1   | 265M/429M [00:48<00:30, 5.70MB/s]\n",
      " 62%|######1   | 266M/429M [00:48<00:30, 5.68MB/s]\n",
      " 62%|######2   | 267M/429M [00:48<00:27, 6.20MB/s]\n",
      " 62%|######2   | 268M/429M [00:48<00:26, 6.46MB/s]\n",
      " 63%|######2   | 269M/429M [00:48<00:27, 6.22MB/s]\n",
      " 63%|######2   | 270M/429M [00:49<00:37, 4.49MB/s]\n",
      " 63%|######3   | 272M/429M [00:49<00:27, 6.03MB/s]\n",
      " 64%|######3   | 273M/429M [00:49<00:26, 6.28MB/s]\n",
      " 64%|######3   | 274M/429M [00:50<00:42, 3.83MB/s]\n",
      " 65%|######4   | 277M/429M [00:50<00:24, 6.41MB/s]\n",
      " 65%|######4   | 278M/429M [00:50<00:24, 6.60MB/s]\n",
      " 65%|######4   | 279M/429M [00:50<00:22, 7.12MB/s]\n",
      " 65%|######5   | 280M/429M [00:50<00:23, 6.70MB/s]\n",
      " 65%|######5   | 281M/429M [00:50<00:23, 6.75MB/s]\n",
      " 66%|######5   | 282M/429M [00:50<00:23, 6.52MB/s]\n",
      " 66%|######5   | 283M/429M [00:51<00:23, 6.48MB/s]\n",
      " 66%|######6   | 284M/429M [00:51<00:24, 6.23MB/s]\n",
      " 66%|######6   | 285M/429M [00:51<00:25, 5.94MB/s]\n",
      " 67%|######6   | 286M/429M [00:51<00:25, 5.86MB/s]\n",
      " 67%|######6   | 287M/429M [00:51<00:24, 5.97MB/s]\n",
      " 67%|######7   | 288M/429M [00:52<00:24, 6.04MB/s]\n",
      " 67%|######7   | 289M/429M [00:52<00:24, 5.96MB/s]\n",
      " 68%|######7   | 290M/429M [00:52<00:35, 4.08MB/s]\n",
      " 68%|######8   | 293M/429M [00:52<00:22, 6.25MB/s]\n",
      " 68%|######8   | 294M/429M [00:53<00:22, 6.29MB/s]\n",
      " 69%|######8   | 295M/429M [00:53<00:21, 6.56MB/s]\n",
      " 69%|######8   | 296M/429M [00:53<00:23, 5.97MB/s]\n",
      " 69%|######9   | 297M/429M [00:53<00:22, 6.21MB/s]\n",
      " 69%|######9   | 298M/429M [00:54<00:43, 3.13MB/s]\n",
      " 70%|#######   | 301M/429M [00:54<00:27, 4.98MB/s]\n",
      " 70%|#######   | 302M/429M [00:54<00:24, 5.44MB/s]\n",
      " 71%|#######   | 303M/429M [00:54<00:22, 5.90MB/s]\n",
      " 71%|#######   | 304M/429M [00:55<00:26, 4.99MB/s]\n",
      " 71%|#######1  | 306M/429M [00:55<00:18, 6.92MB/s]\n",
      " 72%|#######1  | 307M/429M [00:55<00:19, 6.47MB/s]\n",
      " 72%|#######1  | 308M/429M [00:55<00:20, 6.28MB/s]\n",
      " 72%|#######1  | 309M/429M [00:55<00:20, 6.19MB/s]\n",
      " 72%|#######2  | 310M/429M [00:56<00:19, 6.36MB/s]\n",
      " 72%|#######2  | 311M/429M [00:56<00:21, 5.80MB/s]\n",
      " 73%|#######2  | 312M/429M [00:56<00:20, 6.04MB/s]\n",
      " 73%|#######2  | 313M/429M [00:56<00:20, 5.91MB/s]\n",
      " 73%|#######3  | 314M/429M [00:56<00:20, 5.81MB/s]\n",
      " 73%|#######3  | 315M/429M [00:57<00:20, 5.91MB/s]\n",
      " 74%|#######3  | 316M/429M [00:57<00:20, 5.91MB/s]\n",
      " 74%|#######3  | 317M/429M [00:57<00:20, 5.76MB/s]\n",
      " 74%|#######4  | 318M/429M [00:57<00:18, 6.27MB/s]\n",
      " 74%|#######4  | 319M/429M [00:57<00:18, 6.40MB/s]\n",
      " 75%|#######4  | 320M/429M [00:57<00:18, 6.04MB/s]\n",
      " 75%|#######4  | 321M/429M [00:58<00:17, 6.35MB/s]\n",
      " 75%|#######5  | 322M/429M [00:58<00:19, 5.82MB/s]\n",
      " 75%|#######5  | 323M/429M [00:58<00:17, 6.32MB/s]\n",
      " 75%|#######5  | 324M/429M [00:58<00:18, 5.99MB/s]\n",
      " 76%|#######5  | 325M/429M [00:58<00:17, 6.10MB/s]\n",
      " 76%|#######5  | 326M/429M [00:58<00:17, 6.02MB/s]\n",
      " 76%|#######6  | 327M/429M [00:59<00:18, 5.89MB/s]\n",
      " 76%|#######6  | 328M/429M [00:59<00:38, 2.75MB/s]\n",
      " 77%|#######7  | 331M/429M [01:00<00:19, 5.29MB/s]\n",
      " 77%|#######7  | 332M/429M [01:00<00:17, 5.67MB/s]\n",
      " 78%|#######7  | 333M/429M [01:00<00:17, 5.86MB/s]\n",
      " 78%|#######7  | 334M/429M [01:00<00:25, 3.93MB/s]\n",
      " 79%|#######8  | 337M/429M [01:01<00:15, 6.29MB/s]\n",
      " 79%|#######8  | 338M/429M [01:01<00:15, 6.13MB/s]\n",
      " 79%|#######8  | 339M/429M [01:01<00:15, 6.04MB/s]\n",
      " 79%|#######9  | 340M/429M [01:01<00:15, 5.94MB/s]\n",
      " 79%|#######9  | 341M/429M [01:02<00:26, 3.47MB/s]\n",
      " 80%|########  | 344M/429M [01:02<00:14, 6.02MB/s]\n",
      " 80%|########  | 345M/429M [01:02<00:13, 6.34MB/s]\n",
      " 81%|########  | 346M/429M [01:02<00:13, 6.55MB/s]\n",
      " 81%|########  | 347M/429M [01:03<00:13, 6.49MB/s]\n",
      " 81%|########1 | 348M/429M [01:03<00:11, 7.15MB/s]\n",
      " 81%|########1 | 349M/429M [01:03<00:13, 6.31MB/s]\n",
      " 82%|########1 | 350M/429M [01:03<00:13, 6.30MB/s]\n",
      " 82%|########1 | 351M/429M [01:03<00:13, 6.10MB/s]\n",
      " 82%|########2 | 352M/429M [01:03<00:12, 6.37MB/s]\n",
      " 82%|########2 | 353M/429M [01:04<00:12, 6.23MB/s]\n",
      " 82%|########2 | 354M/429M [01:04<00:12, 6.25MB/s]\n",
      " 83%|########2 | 355M/429M [01:04<00:13, 5.91MB/s]\n",
      " 83%|########2 | 356M/429M [01:04<00:12, 6.04MB/s]\n",
      " 83%|########3 | 357M/429M [01:05<00:20, 3.76MB/s]\n",
      " 84%|########3 | 360M/429M [01:05<00:10, 6.66MB/s]\n",
      " 84%|########4 | 361M/429M [01:05<00:11, 6.45MB/s]\n",
      " 84%|########4 | 362M/429M [01:05<00:11, 6.07MB/s]\n",
      " 85%|########4 | 363M/429M [01:05<00:10, 6.40MB/s]\n",
      " 85%|########4 | 364M/429M [01:06<00:12, 5.56MB/s]\n",
      " 85%|########5 | 365M/429M [01:06<00:10, 6.24MB/s]\n",
      " 85%|########5 | 366M/429M [01:06<00:10, 6.04MB/s]\n",
      " 85%|########5 | 367M/429M [01:06<00:10, 6.21MB/s]\n",
      " 86%|########5 | 368M/429M [01:06<00:10, 5.90MB/s]\n",
      " 86%|########5 | 369M/429M [01:06<00:10, 6.28MB/s]\n",
      " 86%|########6 | 370M/429M [01:07<00:10, 6.20MB/s]\n",
      " 86%|########6 | 371M/429M [01:07<00:09, 6.13MB/s]\n",
      " 87%|########6 | 372M/429M [01:07<00:10, 5.88MB/s]\n",
      " 87%|########6 | 373M/429M [01:07<00:09, 5.90MB/s]\n",
      " 87%|########7 | 374M/429M [01:07<00:09, 6.42MB/s]\n",
      " 87%|########7 | 375M/429M [01:07<00:09, 6.11MB/s]\n",
      " 88%|########7 | 376M/429M [01:08<00:09, 6.09MB/s]\n",
      " 88%|########7 | 377M/429M [01:08<00:08, 6.28MB/s]\n",
      " 88%|########8 | 378M/429M [01:08<00:08, 6.25MB/s]\n",
      " 88%|########8 | 379M/429M [01:08<00:09, 5.70MB/s]\n",
      " 89%|########8 | 380M/429M [01:08<00:11, 4.52MB/s]\n",
      " 89%|########8 | 382M/429M [01:09<00:08, 6.05MB/s]\n",
      " 89%|########9 | 383M/429M [01:09<00:07, 6.19MB/s]\n",
      " 89%|########9 | 384M/429M [01:09<00:07, 6.00MB/s]\n",
      " 90%|########9 | 385M/429M [01:09<00:07, 5.87MB/s]\n",
      " 90%|########9 | 386M/429M [01:09<00:07, 5.78MB/s]\n",
      " 90%|######### | 387M/429M [01:10<00:14, 3.02MB/s]\n",
      " 91%|######### | 390M/429M [01:10<00:07, 5.73MB/s]\n",
      " 91%|#########1| 392M/429M [01:11<00:06, 6.07MB/s]\n",
      " 92%|#########1| 393M/429M [01:11<00:05, 6.59MB/s]\n",
      " 92%|#########1| 394M/429M [01:11<00:05, 6.37MB/s]\n",
      " 92%|#########2| 395M/429M [01:11<00:05, 6.16MB/s]\n",
      " 92%|#########2| 396M/429M [01:11<00:05, 6.45MB/s]\n",
      " 92%|#########2| 397M/429M [01:11<00:05, 5.98MB/s]\n",
      " 93%|#########2| 398M/429M [01:12<00:05, 6.26MB/s]\n",
      " 93%|#########2| 399M/429M [01:12<00:05, 6.03MB/s]\n",
      " 93%|#########3| 400M/429M [01:12<00:05, 5.64MB/s]\n",
      " 93%|#########3| 401M/429M [01:12<00:05, 5.67MB/s]\n",
      " 94%|#########3| 402M/429M [01:13<00:08, 3.30MB/s]\n",
      " 94%|#########4| 405M/429M [01:13<00:04, 5.18MB/s]\n",
      " 95%|#########4| 407M/429M [01:13<00:03, 5.84MB/s]\n",
      " 95%|#########5| 408M/429M [01:14<00:03, 6.13MB/s]\n",
      " 95%|#########5| 409M/429M [01:14<00:03, 6.26MB/s]\n",
      " 96%|#########5| 410M/429M [01:14<00:03, 6.46MB/s]\n",
      " 96%|#########5| 411M/429M [01:14<00:03, 6.31MB/s]\n",
      " 96%|#########5| 412M/429M [01:14<00:02, 6.29MB/s]\n",
      " 96%|#########6| 413M/429M [01:14<00:02, 5.77MB/s]\n",
      " 96%|#########6| 414M/429M [01:15<00:02, 5.80MB/s]\n",
      " 97%|#########6| 415M/429M [01:15<00:02, 6.06MB/s]\n",
      " 97%|#########6| 416M/429M [01:15<00:02, 5.92MB/s]\n",
      " 97%|#########7| 417M/429M [01:15<00:02, 4.87MB/s]\n",
      " 98%|#########7| 419M/429M [01:16<00:01, 6.04MB/s]\n",
      " 98%|#########7| 420M/429M [01:16<00:01, 5.84MB/s]\n",
      " 98%|#########8| 421M/429M [01:16<00:01, 6.02MB/s]\n",
      " 98%|#########8| 422M/429M [01:16<00:01, 6.39MB/s]\n",
      " 99%|#########8| 423M/429M [01:16<00:01, 6.29MB/s]\n",
      " 99%|#########8| 424M/429M [01:16<00:00, 6.62MB/s]\n",
      " 99%|#########9| 425M/429M [01:17<00:00, 6.02MB/s]\n",
      " 99%|#########9| 426M/429M [01:17<00:00, 6.11MB/s]\n",
      " 99%|#########9| 427M/429M [01:17<00:00, 6.25MB/s]\n",
      "100%|#########9| 428M/429M [01:17<00:00, 6.33MB/s]\n",
      "100%|#########9| 429M/429M [01:17<00:00, 5.68MB/s]\n",
      "100%|##########| 429M/429M [01:17<00:00, 5.79MB/s]\n"
     ]
    }
   ],
   "source": [
    "!kaggle datasets download -d uwrfkaggler/ravdess-emotional-speech-audio --unzip -p /content/data"
   ]
  },
  {
   "cell_type": "code",
   "execution_count": 52,
   "id": "ca7d72fd-2f0f-4344-b541-31ce9b486207",
   "metadata": {},
   "outputs": [
    {
     "name": "stdout",
     "output_type": "stream",
     "text": [
      "['Actor_01', 'Actor_02', 'Actor_03', 'Actor_04', 'Actor_05', 'Actor_06', 'Actor_07', 'Actor_08', 'Actor_09', 'Actor_10', 'Actor_11', 'Actor_12', 'Actor_13', 'Actor_14', 'Actor_15', 'Actor_16', 'Actor_17', 'Actor_18', 'Actor_19', 'Actor_20', 'Actor_21', 'Actor_22', 'Actor_23', 'Actor_24', 'audio_speech_actors_01-24']\n"
     ]
    }
   ],
   "source": [
    "print(os.listdir('/content/data'))"
   ]
  },
  {
   "cell_type": "code",
   "execution_count": 53,
   "id": "4a0db53f-cc2a-4b51-b04a-591d75a37b9c",
   "metadata": {},
   "outputs": [],
   "source": [
    "import librosa\n",
    "import numpy as np\n",
    "import tensorflow\n",
    "from tensorflow.keras.layers import Conv2D , MaxPooling2D , Flatten , Dense , Dropout\n",
    "from tensorflow.keras.models import Sequential\n",
    "from sklearn.model_selection import train_test_split\n",
    "from tensorflow.keras.utils import to_categorical\n",
    "import matplotlib.pyplot as plt"
   ]
  },
  {
   "cell_type": "code",
   "execution_count": 54,
   "id": "824b5a9a-22c5-4c49-8401-b105cec91994",
   "metadata": {},
   "outputs": [],
   "source": [
    "data_path = '/content/data'"
   ]
  },
  {
   "cell_type": "markdown",
   "id": "0a133aa1-924c-4a15-a059-905deccab2d1",
   "metadata": {},
   "source": [
    "# As per the RAVDESS file description emotion labels are :Emotion (01 = neutral, 02 = calm, 03 = happy, 04 = sad, 05 = angry, 06 = fearful, 07 = disgust, 08 = surprised)."
   ]
  },
  {
   "cell_type": "code",
   "execution_count": 56,
   "id": "aa40c8d7-0af9-4835-a2f5-14853c9e1ff9",
   "metadata": {},
   "outputs": [],
   "source": [
    "emotion_dict = {\n",
    "    '01': 'Neutral', '02': 'Calm', '03': 'Happy', '04': 'Sad', \n",
    "    '05': 'Angry', '06': 'Fearful', '07': 'Disgust', '08': 'Surprised'\n",
    "}"
   ]
  },
  {
   "cell_type": "code",
   "execution_count": 57,
   "id": "06135f43-9cde-41b1-938a-131c89d60f39",
   "metadata": {},
   "outputs": [],
   "source": [
    "def parse_file(name):\n",
    "    parts = name.split('-')\n",
    "    id = int(parts[6].split('.')[0])\n",
    "    emotion = parts[2]\n",
    "    return id , emotion_dict[emotion]"
   ]
  },
  {
   "cell_type": "code",
   "execution_count": 58,
   "id": "59faa721-8355-4afa-a202-ba985564cd8f",
   "metadata": {},
   "outputs": [],
   "source": [
    "from sklearn.preprocessing import StandardScaler"
   ]
  },
  {
   "cell_type": "markdown",
   "id": "6654aa0d-c269-42c3-bde5-b16e8ee68f57",
   "metadata": {},
   "source": [
    "# Features Extraction"
   ]
  },
  {
   "cell_type": "code",
   "execution_count": 59,
   "id": "1faca0ad-8d64-4f16-8e5d-ad6c3566ad12",
   "metadata": {},
   "outputs": [],
   "source": [
    "def extract_features_from_female_voices(dataset_path):\n",
    "    features = []\n",
    "    labels = []\n",
    "    for actor_folder in os.listdir(dataset_path):\n",
    "        actor_folder_path = os.path.join(dataset_path, actor_folder)\n",
    "        if not os.path.isdir(actor_folder_path):\n",
    "            continue\n",
    "        if actor_folder.startswith('Actor_'):\n",
    "            actor_id = int(actor_folder.split('_')[1])  \n",
    "            if actor_id % 2 == 0:\n",
    "                print(actor_id)\n",
    "                for filename in os.listdir(actor_folder_path):\n",
    "                    if filename.endswith('.wav'):\n",
    "                        actor_id, emotion = parse_file(filename)\n",
    "                        file_path = os.path.join(actor_folder_path, filename)\n",
    "                        \n",
    "                        y, sr = librosa.load(file_path, duration=4, sr=22050)\n",
    "                        \n",
    "                        mfcc = librosa.feature.mfcc(y=y, sr=sr, n_mfcc=20)\n",
    "                        chroma = librosa.feature.chroma_stft(y=y, sr=sr)\n",
    "                        mel = librosa.feature.melspectrogram(y=y, sr=sr)\n",
    "                        contrast = librosa.feature.spectral_contrast(y=y, sr=sr)\n",
    "                        mfcc = np.mean(mfcc.T, axis=0)  \n",
    "                        chroma = np.mean(chroma.T , axis = 0)\n",
    "                        mel = np.mean(mel.T , axis = 0)\n",
    "                        contrast = np.mean(contrast.T , axis = 0)\n",
    "\n",
    "                        feature_vector = np.hstack([mfcc,chroma,mel,contrast])\n",
    "                        features.append(feature_vector)\n",
    "                        labels.append(emotion)\n",
    "    \n",
    "    return np.array(features), np.array(labels)"
   ]
  },
  {
   "cell_type": "code",
   "execution_count": 60,
   "id": "1078e98c-b40b-45fd-9b4b-4439e88476ca",
   "metadata": {},
   "outputs": [
    {
     "name": "stdout",
     "output_type": "stream",
     "text": [
      "2\n",
      "4\n",
      "6\n",
      "8\n",
      "10\n",
      "12\n",
      "14\n",
      "16\n",
      "18\n",
      "20\n",
      "22\n",
      "24\n"
     ]
    }
   ],
   "source": [
    "features , labels = extract_features_from_female_voices(data_path)"
   ]
  },
  {
   "cell_type": "code",
   "execution_count": 61,
   "id": "9be0145d-ae7d-4405-9930-94cd97aee73b",
   "metadata": {},
   "outputs": [
    {
     "data": {
      "text/plain": [
       "array([[-650.71087646,   54.47730255,   -9.09012604, ...,   16.9506885 ,\n",
       "          17.00934124,   41.89358711],\n",
       "       [-646.01690674,   49.11970901,  -10.80037117, ...,   16.23188555,\n",
       "          16.13237261,   43.3635453 ],\n",
       "       [-622.57867432,   51.31145096,  -10.43953609, ...,   16.27188895,\n",
       "          16.62613895,   44.1792086 ],\n",
       "       ...,\n",
       "       [-541.25164795,   29.59570885,  -18.00136185, ...,   17.01178966,\n",
       "          18.31539014,   41.85908053],\n",
       "       [-492.65252686,   23.88798141,   -6.02665901, ...,   17.71937313,\n",
       "          17.30182477,   42.74130653],\n",
       "       [-517.98480225,   29.57121468,   -3.90969872, ...,   16.59385466,\n",
       "          16.62018105,   43.96294669]])"
      ]
     },
     "execution_count": 61,
     "metadata": {},
     "output_type": "execute_result"
    }
   ],
   "source": [
    "features"
   ]
  },
  {
   "cell_type": "code",
   "execution_count": 62,
   "id": "7e556812-fe2a-4e60-b3f1-46eb3be56e4c",
   "metadata": {},
   "outputs": [
    {
     "data": {
      "text/plain": [
       "array(['Neutral', 'Neutral', 'Neutral', 'Neutral', 'Calm', 'Calm', 'Calm',\n",
       "       'Calm', 'Calm', 'Calm', 'Calm', 'Calm', 'Happy', 'Happy', 'Happy',\n",
       "       'Happy', 'Happy', 'Happy', 'Happy', 'Happy', 'Sad', 'Sad', 'Sad',\n",
       "       'Sad', 'Sad', 'Sad', 'Sad', 'Sad', 'Angry', 'Angry', 'Angry',\n",
       "       'Angry', 'Angry', 'Angry', 'Angry', 'Angry', 'Fearful', 'Fearful',\n",
       "       'Fearful', 'Fearful', 'Fearful', 'Fearful', 'Fearful', 'Fearful',\n",
       "       'Disgust', 'Disgust', 'Disgust', 'Disgust', 'Disgust', 'Disgust',\n",
       "       'Disgust', 'Disgust', 'Surprised', 'Surprised', 'Surprised',\n",
       "       'Surprised', 'Surprised', 'Surprised', 'Surprised', 'Surprised',\n",
       "       'Neutral', 'Neutral', 'Neutral', 'Neutral', 'Calm', 'Calm', 'Calm',\n",
       "       'Calm', 'Calm', 'Calm', 'Calm', 'Calm', 'Happy', 'Happy', 'Happy',\n",
       "       'Happy', 'Happy', 'Happy', 'Happy', 'Happy', 'Sad', 'Sad', 'Sad',\n",
       "       'Sad', 'Sad', 'Sad', 'Sad', 'Sad', 'Angry', 'Angry', 'Angry',\n",
       "       'Angry', 'Angry', 'Angry', 'Angry', 'Angry', 'Fearful', 'Fearful',\n",
       "       'Fearful', 'Fearful', 'Fearful', 'Fearful', 'Fearful', 'Fearful',\n",
       "       'Disgust', 'Disgust', 'Disgust', 'Disgust', 'Disgust', 'Disgust',\n",
       "       'Disgust', 'Disgust', 'Surprised', 'Surprised', 'Surprised',\n",
       "       'Surprised', 'Surprised', 'Surprised', 'Surprised', 'Surprised',\n",
       "       'Neutral', 'Neutral', 'Neutral', 'Neutral', 'Calm', 'Calm', 'Calm',\n",
       "       'Calm', 'Calm', 'Calm', 'Calm', 'Calm', 'Happy', 'Happy', 'Happy',\n",
       "       'Happy', 'Happy', 'Happy', 'Happy', 'Happy', 'Sad', 'Sad', 'Sad',\n",
       "       'Sad', 'Sad', 'Sad', 'Sad', 'Sad', 'Angry', 'Angry', 'Angry',\n",
       "       'Angry', 'Angry', 'Angry', 'Angry', 'Angry', 'Fearful', 'Fearful',\n",
       "       'Fearful', 'Fearful', 'Fearful', 'Fearful', 'Fearful', 'Fearful',\n",
       "       'Disgust', 'Disgust', 'Disgust', 'Disgust', 'Disgust', 'Disgust',\n",
       "       'Disgust', 'Disgust', 'Surprised', 'Surprised', 'Surprised',\n",
       "       'Surprised', 'Surprised', 'Surprised', 'Surprised', 'Surprised',\n",
       "       'Neutral', 'Neutral', 'Neutral', 'Neutral', 'Calm', 'Calm', 'Calm',\n",
       "       'Calm', 'Calm', 'Calm', 'Calm', 'Calm', 'Happy', 'Happy', 'Happy',\n",
       "       'Happy', 'Happy', 'Happy', 'Happy', 'Happy', 'Sad', 'Sad', 'Sad',\n",
       "       'Sad', 'Sad', 'Sad', 'Sad', 'Sad', 'Angry', 'Angry', 'Angry',\n",
       "       'Angry', 'Angry', 'Angry', 'Angry', 'Angry', 'Fearful', 'Fearful',\n",
       "       'Fearful', 'Fearful', 'Fearful', 'Fearful', 'Fearful', 'Fearful',\n",
       "       'Disgust', 'Disgust', 'Disgust', 'Disgust', 'Disgust', 'Disgust',\n",
       "       'Disgust', 'Disgust', 'Surprised', 'Surprised', 'Surprised',\n",
       "       'Surprised', 'Surprised', 'Surprised', 'Surprised', 'Surprised',\n",
       "       'Neutral', 'Neutral', 'Neutral', 'Neutral', 'Calm', 'Calm', 'Calm',\n",
       "       'Calm', 'Calm', 'Calm', 'Calm', 'Calm', 'Happy', 'Happy', 'Happy',\n",
       "       'Happy', 'Happy', 'Happy', 'Happy', 'Happy', 'Sad', 'Sad', 'Sad',\n",
       "       'Sad', 'Sad', 'Sad', 'Sad', 'Sad', 'Angry', 'Angry', 'Angry',\n",
       "       'Angry', 'Angry', 'Angry', 'Angry', 'Angry', 'Fearful', 'Fearful',\n",
       "       'Fearful', 'Fearful', 'Fearful', 'Fearful', 'Fearful', 'Fearful',\n",
       "       'Disgust', 'Disgust', 'Disgust', 'Disgust', 'Disgust', 'Disgust',\n",
       "       'Disgust', 'Disgust', 'Surprised', 'Surprised', 'Surprised',\n",
       "       'Surprised', 'Surprised', 'Surprised', 'Surprised', 'Surprised',\n",
       "       'Neutral', 'Neutral', 'Neutral', 'Neutral', 'Calm', 'Calm', 'Calm',\n",
       "       'Calm', 'Calm', 'Calm', 'Calm', 'Calm', 'Happy', 'Happy', 'Happy',\n",
       "       'Happy', 'Happy', 'Happy', 'Happy', 'Happy', 'Sad', 'Sad', 'Sad',\n",
       "       'Sad', 'Sad', 'Sad', 'Sad', 'Sad', 'Angry', 'Angry', 'Angry',\n",
       "       'Angry', 'Angry', 'Angry', 'Angry', 'Angry', 'Fearful', 'Fearful',\n",
       "       'Fearful', 'Fearful', 'Fearful', 'Fearful', 'Fearful', 'Fearful',\n",
       "       'Disgust', 'Disgust', 'Disgust', 'Disgust', 'Disgust', 'Disgust',\n",
       "       'Disgust', 'Disgust', 'Surprised', 'Surprised', 'Surprised',\n",
       "       'Surprised', 'Surprised', 'Surprised', 'Surprised', 'Surprised',\n",
       "       'Neutral', 'Neutral', 'Neutral', 'Neutral', 'Calm', 'Calm', 'Calm',\n",
       "       'Calm', 'Calm', 'Calm', 'Calm', 'Calm', 'Happy', 'Happy', 'Happy',\n",
       "       'Happy', 'Happy', 'Happy', 'Happy', 'Happy', 'Sad', 'Sad', 'Sad',\n",
       "       'Sad', 'Sad', 'Sad', 'Sad', 'Sad', 'Angry', 'Angry', 'Angry',\n",
       "       'Angry', 'Angry', 'Angry', 'Angry', 'Angry', 'Fearful', 'Fearful',\n",
       "       'Fearful', 'Fearful', 'Fearful', 'Fearful', 'Fearful', 'Fearful',\n",
       "       'Disgust', 'Disgust', 'Disgust', 'Disgust', 'Disgust', 'Disgust',\n",
       "       'Disgust', 'Disgust', 'Surprised', 'Surprised', 'Surprised',\n",
       "       'Surprised', 'Surprised', 'Surprised', 'Surprised', 'Surprised',\n",
       "       'Neutral', 'Neutral', 'Neutral', 'Neutral', 'Calm', 'Calm', 'Calm',\n",
       "       'Calm', 'Calm', 'Calm', 'Calm', 'Calm', 'Happy', 'Happy', 'Happy',\n",
       "       'Happy', 'Happy', 'Happy', 'Happy', 'Happy', 'Sad', 'Sad', 'Sad',\n",
       "       'Sad', 'Sad', 'Sad', 'Sad', 'Sad', 'Angry', 'Angry', 'Angry',\n",
       "       'Angry', 'Angry', 'Angry', 'Angry', 'Angry', 'Fearful', 'Fearful',\n",
       "       'Fearful', 'Fearful', 'Fearful', 'Fearful', 'Fearful', 'Fearful',\n",
       "       'Disgust', 'Disgust', 'Disgust', 'Disgust', 'Disgust', 'Disgust',\n",
       "       'Disgust', 'Disgust', 'Surprised', 'Surprised', 'Surprised',\n",
       "       'Surprised', 'Surprised', 'Surprised', 'Surprised', 'Surprised',\n",
       "       'Neutral', 'Neutral', 'Neutral', 'Neutral', 'Calm', 'Calm', 'Calm',\n",
       "       'Calm', 'Calm', 'Calm', 'Calm', 'Calm', 'Happy', 'Happy', 'Happy',\n",
       "       'Happy', 'Happy', 'Happy', 'Happy', 'Happy', 'Sad', 'Sad', 'Sad',\n",
       "       'Sad', 'Sad', 'Sad', 'Sad', 'Sad', 'Angry', 'Angry', 'Angry',\n",
       "       'Angry', 'Angry', 'Angry', 'Angry', 'Angry', 'Fearful', 'Fearful',\n",
       "       'Fearful', 'Fearful', 'Fearful', 'Fearful', 'Fearful', 'Fearful',\n",
       "       'Disgust', 'Disgust', 'Disgust', 'Disgust', 'Disgust', 'Disgust',\n",
       "       'Disgust', 'Disgust', 'Surprised', 'Surprised', 'Surprised',\n",
       "       'Surprised', 'Surprised', 'Surprised', 'Surprised', 'Surprised',\n",
       "       'Neutral', 'Neutral', 'Neutral', 'Neutral', 'Calm', 'Calm', 'Calm',\n",
       "       'Calm', 'Calm', 'Calm', 'Calm', 'Calm', 'Happy', 'Happy', 'Happy',\n",
       "       'Happy', 'Happy', 'Happy', 'Happy', 'Happy', 'Sad', 'Sad', 'Sad',\n",
       "       'Sad', 'Sad', 'Sad', 'Sad', 'Sad', 'Angry', 'Angry', 'Angry',\n",
       "       'Angry', 'Angry', 'Angry', 'Angry', 'Angry', 'Fearful', 'Fearful',\n",
       "       'Fearful', 'Fearful', 'Fearful', 'Fearful', 'Fearful', 'Fearful',\n",
       "       'Disgust', 'Disgust', 'Disgust', 'Disgust', 'Disgust', 'Disgust',\n",
       "       'Disgust', 'Disgust', 'Surprised', 'Surprised', 'Surprised',\n",
       "       'Surprised', 'Surprised', 'Surprised', 'Surprised', 'Surprised',\n",
       "       'Neutral', 'Neutral', 'Neutral', 'Neutral', 'Calm', 'Calm', 'Calm',\n",
       "       'Calm', 'Calm', 'Calm', 'Calm', 'Calm', 'Happy', 'Happy', 'Happy',\n",
       "       'Happy', 'Happy', 'Happy', 'Happy', 'Happy', 'Sad', 'Sad', 'Sad',\n",
       "       'Sad', 'Sad', 'Sad', 'Sad', 'Sad', 'Angry', 'Angry', 'Angry',\n",
       "       'Angry', 'Angry', 'Angry', 'Angry', 'Angry', 'Fearful', 'Fearful',\n",
       "       'Fearful', 'Fearful', 'Fearful', 'Fearful', 'Fearful', 'Fearful',\n",
       "       'Disgust', 'Disgust', 'Disgust', 'Disgust', 'Disgust', 'Disgust',\n",
       "       'Disgust', 'Disgust', 'Surprised', 'Surprised', 'Surprised',\n",
       "       'Surprised', 'Surprised', 'Surprised', 'Surprised', 'Surprised',\n",
       "       'Neutral', 'Neutral', 'Neutral', 'Neutral', 'Calm', 'Calm', 'Calm',\n",
       "       'Calm', 'Calm', 'Calm', 'Calm', 'Calm', 'Happy', 'Happy', 'Happy',\n",
       "       'Happy', 'Happy', 'Happy', 'Happy', 'Happy', 'Sad', 'Sad', 'Sad',\n",
       "       'Sad', 'Sad', 'Sad', 'Sad', 'Sad', 'Angry', 'Angry', 'Angry',\n",
       "       'Angry', 'Angry', 'Angry', 'Angry', 'Angry', 'Fearful', 'Fearful',\n",
       "       'Fearful', 'Fearful', 'Fearful', 'Fearful', 'Fearful', 'Fearful',\n",
       "       'Disgust', 'Disgust', 'Disgust', 'Disgust', 'Disgust', 'Disgust',\n",
       "       'Disgust', 'Disgust', 'Surprised', 'Surprised', 'Surprised',\n",
       "       'Surprised', 'Surprised', 'Surprised', 'Surprised', 'Surprised'],\n",
       "      dtype='<U9')"
      ]
     },
     "execution_count": 62,
     "metadata": {},
     "output_type": "execute_result"
    }
   ],
   "source": [
    "labels"
   ]
  },
  {
   "cell_type": "code",
   "execution_count": 63,
   "id": "d211557d-95e9-4614-8063-87a2d0154495",
   "metadata": {},
   "outputs": [
    {
     "data": {
      "text/plain": [
       "720"
      ]
     },
     "execution_count": 63,
     "metadata": {},
     "output_type": "execute_result"
    }
   ],
   "source": [
    "len(labels)"
   ]
  },
  {
   "cell_type": "code",
   "execution_count": 64,
   "id": "a1b2c3dd-16fc-4e62-aa25-f0ffcb0eaf0c",
   "metadata": {},
   "outputs": [],
   "source": [
    "from sklearn.preprocessing import LabelEncoder"
   ]
  },
  {
   "cell_type": "markdown",
   "id": "d379549a-3d1f-4c00-be88-67050a932163",
   "metadata": {},
   "source": [
    "# Label Encoding"
   ]
  },
  {
   "cell_type": "code",
   "execution_count": 65,
   "id": "f44e7719-ec1f-4b7d-aa02-09a74f0ece0f",
   "metadata": {},
   "outputs": [],
   "source": [
    "features = features / np.max(np.abs(features),axis = 0)\n",
    "\n",
    "label_encoder = LabelEncoder()\n",
    "labels = label_encoder.fit_transform(labels)\n",
    "\n",
    "labels = to_categorical(labels , num_classes=len(emotion_dict))\n",
    "\n",
    "x_train, x_test, y_train, y_test = train_test_split(features, labels, test_size=0.35, random_state=42)"
   ]
  },
  {
   "cell_type": "code",
   "execution_count": 66,
   "id": "5ae1c62f-8846-447f-bd45-1bb0fde97f31",
   "metadata": {},
   "outputs": [
    {
     "data": {
      "text/plain": [
       "(468, 468)"
      ]
     },
     "execution_count": 66,
     "metadata": {},
     "output_type": "execute_result"
    }
   ],
   "source": [
    "len(x_train) , len(y_train)"
   ]
  },
  {
   "cell_type": "code",
   "execution_count": 67,
   "id": "94a59c9f-ba79-4412-96e0-a1bd4bbc2e96",
   "metadata": {},
   "outputs": [
    {
     "data": {
      "text/plain": [
       "array([[-0.74846149,  0.63391488, -0.12385911, ...,  0.79237673,\n",
       "         0.7360514 ,  0.82515261],\n",
       "       [-0.44965979,  0.44088529, -0.37404054, ...,  0.88947483,\n",
       "         0.83315649,  0.93207194],\n",
       "       [-0.63672172,  0.65137731, -0.00823582, ...,  0.88781303,\n",
       "         0.89423918,  0.92968471],\n",
       "       ...,\n",
       "       [-0.58520309,  0.78394482, -0.16630727, ...,  0.88343049,\n",
       "         0.85672931,  0.91571999],\n",
       "       [-0.68611914,  0.48068543, -0.14929527, ...,  0.78981119,\n",
       "         0.77086211,  0.8303982 ],\n",
       "       [-0.51148154,  0.22304579, -0.31014749, ...,  0.88687954,\n",
       "         0.81446945,  0.83250822]])"
      ]
     },
     "execution_count": 67,
     "metadata": {},
     "output_type": "execute_result"
    }
   ],
   "source": [
    "x_train"
   ]
  },
  {
   "cell_type": "code",
   "execution_count": 68,
   "id": "efdb49c1-8d52-4852-a46d-072a8b8fd308",
   "metadata": {},
   "outputs": [
    {
     "data": {
      "text/plain": [
       "array([[0., 0., 0., ..., 0., 1., 0.],\n",
       "       [1., 0., 0., ..., 0., 0., 0.],\n",
       "       [0., 1., 0., ..., 0., 0., 0.],\n",
       "       ...,\n",
       "       [1., 0., 0., ..., 0., 0., 0.],\n",
       "       [0., 0., 0., ..., 0., 0., 0.],\n",
       "       [0., 0., 0., ..., 0., 0., 0.]])"
      ]
     },
     "execution_count": 68,
     "metadata": {},
     "output_type": "execute_result"
    }
   ],
   "source": [
    "y_train"
   ]
  },
  {
   "cell_type": "code",
   "execution_count": 69,
   "id": "c82cc8c7-8d59-485c-ae0f-50ec74218306",
   "metadata": {},
   "outputs": [
    {
     "data": {
      "text/plain": [
       "array([[-0.51162622,  0.43021147, -0.37243392, ...,  0.85230086,\n",
       "         0.79384707,  0.92802111],\n",
       "       [-0.56659539,  0.70226458, -0.36685081, ...,  0.9207377 ,\n",
       "         0.92009064,  0.93537149],\n",
       "       [-0.70644639,  0.5097556 , -0.25080615, ...,  0.77139598,\n",
       "         0.75888865,  0.83819544],\n",
       "       ...,\n",
       "       [-0.79818156,  0.56730298, -0.10348944, ...,  0.84577838,\n",
       "         0.75459974,  0.87491875],\n",
       "       [-0.69886728,  0.59116288, -0.2783929 , ...,  0.79250724,\n",
       "         0.74405374,  0.94517427],\n",
       "       [-0.6896567 ,  0.43602955, -0.14703336, ...,  0.83449086,\n",
       "         0.78264861,  0.82826704]])"
      ]
     },
     "execution_count": 69,
     "metadata": {},
     "output_type": "execute_result"
    }
   ],
   "source": [
    "x_test"
   ]
  },
  {
   "cell_type": "code",
   "execution_count": 70,
   "id": "019aedf0-eed3-4680-8d1e-631266fc81c5",
   "metadata": {},
   "outputs": [
    {
     "data": {
      "text/plain": [
       "array([[0., 0., 0., ..., 0., 0., 0.],\n",
       "       [0., 0., 1., ..., 0., 0., 0.],\n",
       "       [0., 0., 0., ..., 0., 0., 1.],\n",
       "       ...,\n",
       "       [0., 0., 0., ..., 0., 1., 0.],\n",
       "       [0., 0., 0., ..., 0., 0., 0.],\n",
       "       [0., 0., 1., ..., 0., 0., 0.]])"
      ]
     },
     "execution_count": 70,
     "metadata": {},
     "output_type": "execute_result"
    }
   ],
   "source": [
    "y_test"
   ]
  },
  {
   "cell_type": "markdown",
   "id": "5d194f8d-5cf7-4d8a-b39a-bdd082711cbf",
   "metadata": {},
   "source": [
    "# Reshaping"
   ]
  },
  {
   "cell_type": "code",
   "execution_count": 71,
   "id": "2a5d262d-685d-4090-bf04-6c9e4aec02ab",
   "metadata": {},
   "outputs": [],
   "source": [
    "x_train = x_train.reshape(x_train.shape[0], x_train.shape[1], 1, 1)\n",
    "x_test = x_test.reshape(x_test.shape[0], x_test.shape[1], 1, 1)"
   ]
  },
  {
   "cell_type": "code",
   "execution_count": 72,
   "id": "39613bfb-913d-48bc-86fb-b3bed107f17d",
   "metadata": {
    "scrolled": true
   },
   "outputs": [
    {
     "data": {
      "text/plain": [
       "array([[[[-0.74846149]],\n",
       "\n",
       "        [[ 0.63391488]],\n",
       "\n",
       "        [[-0.12385911]],\n",
       "\n",
       "        ...,\n",
       "\n",
       "        [[ 0.79237673]],\n",
       "\n",
       "        [[ 0.7360514 ]],\n",
       "\n",
       "        [[ 0.82515261]]],\n",
       "\n",
       "\n",
       "       [[[-0.44965979]],\n",
       "\n",
       "        [[ 0.44088529]],\n",
       "\n",
       "        [[-0.37404054]],\n",
       "\n",
       "        ...,\n",
       "\n",
       "        [[ 0.88947483]],\n",
       "\n",
       "        [[ 0.83315649]],\n",
       "\n",
       "        [[ 0.93207194]]],\n",
       "\n",
       "\n",
       "       [[[-0.63672172]],\n",
       "\n",
       "        [[ 0.65137731]],\n",
       "\n",
       "        [[-0.00823582]],\n",
       "\n",
       "        ...,\n",
       "\n",
       "        [[ 0.88781303]],\n",
       "\n",
       "        [[ 0.89423918]],\n",
       "\n",
       "        [[ 0.92968471]]],\n",
       "\n",
       "\n",
       "       ...,\n",
       "\n",
       "\n",
       "       [[[-0.58520309]],\n",
       "\n",
       "        [[ 0.78394482]],\n",
       "\n",
       "        [[-0.16630727]],\n",
       "\n",
       "        ...,\n",
       "\n",
       "        [[ 0.88343049]],\n",
       "\n",
       "        [[ 0.85672931]],\n",
       "\n",
       "        [[ 0.91571999]]],\n",
       "\n",
       "\n",
       "       [[[-0.68611914]],\n",
       "\n",
       "        [[ 0.48068543]],\n",
       "\n",
       "        [[-0.14929527]],\n",
       "\n",
       "        ...,\n",
       "\n",
       "        [[ 0.78981119]],\n",
       "\n",
       "        [[ 0.77086211]],\n",
       "\n",
       "        [[ 0.8303982 ]]],\n",
       "\n",
       "\n",
       "       [[[-0.51148154]],\n",
       "\n",
       "        [[ 0.22304579]],\n",
       "\n",
       "        [[-0.31014749]],\n",
       "\n",
       "        ...,\n",
       "\n",
       "        [[ 0.88687954]],\n",
       "\n",
       "        [[ 0.81446945]],\n",
       "\n",
       "        [[ 0.83250822]]]])"
      ]
     },
     "execution_count": 72,
     "metadata": {},
     "output_type": "execute_result"
    }
   ],
   "source": [
    "x_train"
   ]
  },
  {
   "cell_type": "code",
   "execution_count": 73,
   "id": "ba0eb665-a96a-41c3-a596-73266a282526",
   "metadata": {},
   "outputs": [],
   "source": [
    "from tensorflow.keras.layers import BatchNormalization , Dropout , Activation"
   ]
  },
  {
   "cell_type": "code",
   "execution_count": 74,
   "id": "541196bc-9bd7-4423-93f3-2264db718fb9",
   "metadata": {},
   "outputs": [],
   "source": [
    "import tensorflow "
   ]
  },
  {
   "cell_type": "markdown",
   "id": "83a270cf-eac8-4f56-8aa9-243139740fe7",
   "metadata": {},
   "source": [
    "# CNN Model"
   ]
  },
  {
   "cell_type": "code",
   "execution_count": 75,
   "id": "08220e40-f1b8-4c6c-99bf-6c707b0b7d12",
   "metadata": {},
   "outputs": [],
   "source": [
    "from tensorflow.keras.models import Sequential\n",
    "from tensorflow.keras.optimizers import Adam\n",
    "from tensorflow.keras.regularizers import l2\n",
    "from tensorflow.keras.layers import Conv2D, Activation, GlobalAveragePooling2D ,AveragePooling2D, Flatten, Dense, Dropout\n",
    "\n",
    "def build_cnn(input_shape):\n",
    "    model = Sequential()\n",
    "\n",
    "    model.add(Conv2D(32, (3, 3), input_shape=input_shape, padding='same',activation='relu'))\n",
    "    model.add(AveragePooling2D(pool_size=(1, 1)))\n",
    "    \n",
    "    model.add(Conv2D(64, (3, 3), padding='same',activation='relu'))\n",
    "    model.add(AveragePooling2D(pool_size=(1, 1))) \n",
    "    \n",
    "    model.add(Conv2D(128, (3, 3), padding='same',activation='relu'))\n",
    "    model.add(AveragePooling2D(pool_size=(1, 1)))  \n",
    "\n",
    "    model.add(Conv2D(256, (3, 3), padding='same',activation='relu'))\n",
    "    model.add(AveragePooling2D(pool_size=(1, 1))) \n",
    "\n",
    "    model.add(Conv2D(512, (3, 3), padding='same',activation='relu'))\n",
    "    model.add(AveragePooling2D(pool_size=(1, 1)))  \n",
    "    \n",
    "    model.add(Flatten())\n",
    "    \n",
    "    model.add(Dense(1024, activation='relu',kernel_regularizer = l2(0.001)))\n",
    "    model.add(Dropout(0.50))\n",
    "              \n",
    "    model.add(Dense(8, activation='softmax'))  \n",
    "\n",
    "    model.compile(optimizer=Adam(learning_rate = 0.0003), loss='categorical_crossentropy', metrics=['accuracy'])\n",
    "    return model\n"
   ]
  },
  {
   "cell_type": "code",
   "execution_count": 76,
   "id": "32e22eaa-07b2-411b-93d3-db255e6e4216",
   "metadata": {},
   "outputs": [
    {
     "name": "stderr",
     "output_type": "stream",
     "text": [
      "C:\\Users\\ASUS\\anaconda3\\Lib\\site-packages\\keras\\src\\layers\\convolutional\\base_conv.py:107: UserWarning: Do not pass an `input_shape`/`input_dim` argument to a layer. When using Sequential models, prefer using an `Input(shape)` object as the first layer in the model instead.\n",
      "  super().__init__(activity_regularizer=activity_regularizer, **kwargs)\n"
     ]
    },
    {
     "data": {
      "text/html": [
       "<pre style=\"white-space:pre;overflow-x:auto;line-height:normal;font-family:Menlo,'DejaVu Sans Mono',consolas,'Courier New',monospace\"><span style=\"font-weight: bold\">Model: \"sequential_1\"</span>\n",
       "</pre>\n"
      ],
      "text/plain": [
       "\u001b[1mModel: \"sequential_1\"\u001b[0m\n"
      ]
     },
     "metadata": {},
     "output_type": "display_data"
    },
    {
     "data": {
      "text/html": [
       "<pre style=\"white-space:pre;overflow-x:auto;line-height:normal;font-family:Menlo,'DejaVu Sans Mono',consolas,'Courier New',monospace\">┏━━━━━━━━━━━━━━━━━━━━━━━━━━━━━━━━━━━━━━┳━━━━━━━━━━━━━━━━━━━━━━━━━━━━━┳━━━━━━━━━━━━━━━━━┓\n",
       "┃<span style=\"font-weight: bold\"> Layer (type)                         </span>┃<span style=\"font-weight: bold\"> Output Shape                </span>┃<span style=\"font-weight: bold\">         Param # </span>┃\n",
       "┡━━━━━━━━━━━━━━━━━━━━━━━━━━━━━━━━━━━━━━╇━━━━━━━━━━━━━━━━━━━━━━━━━━━━━╇━━━━━━━━━━━━━━━━━┩\n",
       "│ conv2d_5 (<span style=\"color: #0087ff; text-decoration-color: #0087ff\">Conv2D</span>)                    │ (<span style=\"color: #00d7ff; text-decoration-color: #00d7ff\">None</span>, <span style=\"color: #00af00; text-decoration-color: #00af00\">167</span>, <span style=\"color: #00af00; text-decoration-color: #00af00\">1</span>, <span style=\"color: #00af00; text-decoration-color: #00af00\">32</span>)          │             <span style=\"color: #00af00; text-decoration-color: #00af00\">320</span> │\n",
       "├──────────────────────────────────────┼─────────────────────────────┼─────────────────┤\n",
       "│ average_pooling2d_5                  │ (<span style=\"color: #00d7ff; text-decoration-color: #00d7ff\">None</span>, <span style=\"color: #00af00; text-decoration-color: #00af00\">167</span>, <span style=\"color: #00af00; text-decoration-color: #00af00\">1</span>, <span style=\"color: #00af00; text-decoration-color: #00af00\">32</span>)          │               <span style=\"color: #00af00; text-decoration-color: #00af00\">0</span> │\n",
       "│ (<span style=\"color: #0087ff; text-decoration-color: #0087ff\">AveragePooling2D</span>)                   │                             │                 │\n",
       "├──────────────────────────────────────┼─────────────────────────────┼─────────────────┤\n",
       "│ conv2d_6 (<span style=\"color: #0087ff; text-decoration-color: #0087ff\">Conv2D</span>)                    │ (<span style=\"color: #00d7ff; text-decoration-color: #00d7ff\">None</span>, <span style=\"color: #00af00; text-decoration-color: #00af00\">167</span>, <span style=\"color: #00af00; text-decoration-color: #00af00\">1</span>, <span style=\"color: #00af00; text-decoration-color: #00af00\">64</span>)          │          <span style=\"color: #00af00; text-decoration-color: #00af00\">18,496</span> │\n",
       "├──────────────────────────────────────┼─────────────────────────────┼─────────────────┤\n",
       "│ average_pooling2d_6                  │ (<span style=\"color: #00d7ff; text-decoration-color: #00d7ff\">None</span>, <span style=\"color: #00af00; text-decoration-color: #00af00\">167</span>, <span style=\"color: #00af00; text-decoration-color: #00af00\">1</span>, <span style=\"color: #00af00; text-decoration-color: #00af00\">64</span>)          │               <span style=\"color: #00af00; text-decoration-color: #00af00\">0</span> │\n",
       "│ (<span style=\"color: #0087ff; text-decoration-color: #0087ff\">AveragePooling2D</span>)                   │                             │                 │\n",
       "├──────────────────────────────────────┼─────────────────────────────┼─────────────────┤\n",
       "│ conv2d_7 (<span style=\"color: #0087ff; text-decoration-color: #0087ff\">Conv2D</span>)                    │ (<span style=\"color: #00d7ff; text-decoration-color: #00d7ff\">None</span>, <span style=\"color: #00af00; text-decoration-color: #00af00\">167</span>, <span style=\"color: #00af00; text-decoration-color: #00af00\">1</span>, <span style=\"color: #00af00; text-decoration-color: #00af00\">128</span>)         │          <span style=\"color: #00af00; text-decoration-color: #00af00\">73,856</span> │\n",
       "├──────────────────────────────────────┼─────────────────────────────┼─────────────────┤\n",
       "│ average_pooling2d_7                  │ (<span style=\"color: #00d7ff; text-decoration-color: #00d7ff\">None</span>, <span style=\"color: #00af00; text-decoration-color: #00af00\">167</span>, <span style=\"color: #00af00; text-decoration-color: #00af00\">1</span>, <span style=\"color: #00af00; text-decoration-color: #00af00\">128</span>)         │               <span style=\"color: #00af00; text-decoration-color: #00af00\">0</span> │\n",
       "│ (<span style=\"color: #0087ff; text-decoration-color: #0087ff\">AveragePooling2D</span>)                   │                             │                 │\n",
       "├──────────────────────────────────────┼─────────────────────────────┼─────────────────┤\n",
       "│ conv2d_8 (<span style=\"color: #0087ff; text-decoration-color: #0087ff\">Conv2D</span>)                    │ (<span style=\"color: #00d7ff; text-decoration-color: #00d7ff\">None</span>, <span style=\"color: #00af00; text-decoration-color: #00af00\">167</span>, <span style=\"color: #00af00; text-decoration-color: #00af00\">1</span>, <span style=\"color: #00af00; text-decoration-color: #00af00\">256</span>)         │         <span style=\"color: #00af00; text-decoration-color: #00af00\">295,168</span> │\n",
       "├──────────────────────────────────────┼─────────────────────────────┼─────────────────┤\n",
       "│ average_pooling2d_8                  │ (<span style=\"color: #00d7ff; text-decoration-color: #00d7ff\">None</span>, <span style=\"color: #00af00; text-decoration-color: #00af00\">167</span>, <span style=\"color: #00af00; text-decoration-color: #00af00\">1</span>, <span style=\"color: #00af00; text-decoration-color: #00af00\">256</span>)         │               <span style=\"color: #00af00; text-decoration-color: #00af00\">0</span> │\n",
       "│ (<span style=\"color: #0087ff; text-decoration-color: #0087ff\">AveragePooling2D</span>)                   │                             │                 │\n",
       "├──────────────────────────────────────┼─────────────────────────────┼─────────────────┤\n",
       "│ conv2d_9 (<span style=\"color: #0087ff; text-decoration-color: #0087ff\">Conv2D</span>)                    │ (<span style=\"color: #00d7ff; text-decoration-color: #00d7ff\">None</span>, <span style=\"color: #00af00; text-decoration-color: #00af00\">167</span>, <span style=\"color: #00af00; text-decoration-color: #00af00\">1</span>, <span style=\"color: #00af00; text-decoration-color: #00af00\">512</span>)         │       <span style=\"color: #00af00; text-decoration-color: #00af00\">1,180,160</span> │\n",
       "├──────────────────────────────────────┼─────────────────────────────┼─────────────────┤\n",
       "│ average_pooling2d_9                  │ (<span style=\"color: #00d7ff; text-decoration-color: #00d7ff\">None</span>, <span style=\"color: #00af00; text-decoration-color: #00af00\">167</span>, <span style=\"color: #00af00; text-decoration-color: #00af00\">1</span>, <span style=\"color: #00af00; text-decoration-color: #00af00\">512</span>)         │               <span style=\"color: #00af00; text-decoration-color: #00af00\">0</span> │\n",
       "│ (<span style=\"color: #0087ff; text-decoration-color: #0087ff\">AveragePooling2D</span>)                   │                             │                 │\n",
       "├──────────────────────────────────────┼─────────────────────────────┼─────────────────┤\n",
       "│ flatten_1 (<span style=\"color: #0087ff; text-decoration-color: #0087ff\">Flatten</span>)                  │ (<span style=\"color: #00d7ff; text-decoration-color: #00d7ff\">None</span>, <span style=\"color: #00af00; text-decoration-color: #00af00\">85504</span>)               │               <span style=\"color: #00af00; text-decoration-color: #00af00\">0</span> │\n",
       "├──────────────────────────────────────┼─────────────────────────────┼─────────────────┤\n",
       "│ dense_2 (<span style=\"color: #0087ff; text-decoration-color: #0087ff\">Dense</span>)                      │ (<span style=\"color: #00d7ff; text-decoration-color: #00d7ff\">None</span>, <span style=\"color: #00af00; text-decoration-color: #00af00\">1024</span>)                │      <span style=\"color: #00af00; text-decoration-color: #00af00\">87,557,120</span> │\n",
       "├──────────────────────────────────────┼─────────────────────────────┼─────────────────┤\n",
       "│ dropout_1 (<span style=\"color: #0087ff; text-decoration-color: #0087ff\">Dropout</span>)                  │ (<span style=\"color: #00d7ff; text-decoration-color: #00d7ff\">None</span>, <span style=\"color: #00af00; text-decoration-color: #00af00\">1024</span>)                │               <span style=\"color: #00af00; text-decoration-color: #00af00\">0</span> │\n",
       "├──────────────────────────────────────┼─────────────────────────────┼─────────────────┤\n",
       "│ dense_3 (<span style=\"color: #0087ff; text-decoration-color: #0087ff\">Dense</span>)                      │ (<span style=\"color: #00d7ff; text-decoration-color: #00d7ff\">None</span>, <span style=\"color: #00af00; text-decoration-color: #00af00\">8</span>)                   │           <span style=\"color: #00af00; text-decoration-color: #00af00\">8,200</span> │\n",
       "└──────────────────────────────────────┴─────────────────────────────┴─────────────────┘\n",
       "</pre>\n"
      ],
      "text/plain": [
       "┏━━━━━━━━━━━━━━━━━━━━━━━━━━━━━━━━━━━━━━┳━━━━━━━━━━━━━━━━━━━━━━━━━━━━━┳━━━━━━━━━━━━━━━━━┓\n",
       "┃\u001b[1m \u001b[0m\u001b[1mLayer (type)                        \u001b[0m\u001b[1m \u001b[0m┃\u001b[1m \u001b[0m\u001b[1mOutput Shape               \u001b[0m\u001b[1m \u001b[0m┃\u001b[1m \u001b[0m\u001b[1m        Param #\u001b[0m\u001b[1m \u001b[0m┃\n",
       "┡━━━━━━━━━━━━━━━━━━━━━━━━━━━━━━━━━━━━━━╇━━━━━━━━━━━━━━━━━━━━━━━━━━━━━╇━━━━━━━━━━━━━━━━━┩\n",
       "│ conv2d_5 (\u001b[38;5;33mConv2D\u001b[0m)                    │ (\u001b[38;5;45mNone\u001b[0m, \u001b[38;5;34m167\u001b[0m, \u001b[38;5;34m1\u001b[0m, \u001b[38;5;34m32\u001b[0m)          │             \u001b[38;5;34m320\u001b[0m │\n",
       "├──────────────────────────────────────┼─────────────────────────────┼─────────────────┤\n",
       "│ average_pooling2d_5                  │ (\u001b[38;5;45mNone\u001b[0m, \u001b[38;5;34m167\u001b[0m, \u001b[38;5;34m1\u001b[0m, \u001b[38;5;34m32\u001b[0m)          │               \u001b[38;5;34m0\u001b[0m │\n",
       "│ (\u001b[38;5;33mAveragePooling2D\u001b[0m)                   │                             │                 │\n",
       "├──────────────────────────────────────┼─────────────────────────────┼─────────────────┤\n",
       "│ conv2d_6 (\u001b[38;5;33mConv2D\u001b[0m)                    │ (\u001b[38;5;45mNone\u001b[0m, \u001b[38;5;34m167\u001b[0m, \u001b[38;5;34m1\u001b[0m, \u001b[38;5;34m64\u001b[0m)          │          \u001b[38;5;34m18,496\u001b[0m │\n",
       "├──────────────────────────────────────┼─────────────────────────────┼─────────────────┤\n",
       "│ average_pooling2d_6                  │ (\u001b[38;5;45mNone\u001b[0m, \u001b[38;5;34m167\u001b[0m, \u001b[38;5;34m1\u001b[0m, \u001b[38;5;34m64\u001b[0m)          │               \u001b[38;5;34m0\u001b[0m │\n",
       "│ (\u001b[38;5;33mAveragePooling2D\u001b[0m)                   │                             │                 │\n",
       "├──────────────────────────────────────┼─────────────────────────────┼─────────────────┤\n",
       "│ conv2d_7 (\u001b[38;5;33mConv2D\u001b[0m)                    │ (\u001b[38;5;45mNone\u001b[0m, \u001b[38;5;34m167\u001b[0m, \u001b[38;5;34m1\u001b[0m, \u001b[38;5;34m128\u001b[0m)         │          \u001b[38;5;34m73,856\u001b[0m │\n",
       "├──────────────────────────────────────┼─────────────────────────────┼─────────────────┤\n",
       "│ average_pooling2d_7                  │ (\u001b[38;5;45mNone\u001b[0m, \u001b[38;5;34m167\u001b[0m, \u001b[38;5;34m1\u001b[0m, \u001b[38;5;34m128\u001b[0m)         │               \u001b[38;5;34m0\u001b[0m │\n",
       "│ (\u001b[38;5;33mAveragePooling2D\u001b[0m)                   │                             │                 │\n",
       "├──────────────────────────────────────┼─────────────────────────────┼─────────────────┤\n",
       "│ conv2d_8 (\u001b[38;5;33mConv2D\u001b[0m)                    │ (\u001b[38;5;45mNone\u001b[0m, \u001b[38;5;34m167\u001b[0m, \u001b[38;5;34m1\u001b[0m, \u001b[38;5;34m256\u001b[0m)         │         \u001b[38;5;34m295,168\u001b[0m │\n",
       "├──────────────────────────────────────┼─────────────────────────────┼─────────────────┤\n",
       "│ average_pooling2d_8                  │ (\u001b[38;5;45mNone\u001b[0m, \u001b[38;5;34m167\u001b[0m, \u001b[38;5;34m1\u001b[0m, \u001b[38;5;34m256\u001b[0m)         │               \u001b[38;5;34m0\u001b[0m │\n",
       "│ (\u001b[38;5;33mAveragePooling2D\u001b[0m)                   │                             │                 │\n",
       "├──────────────────────────────────────┼─────────────────────────────┼─────────────────┤\n",
       "│ conv2d_9 (\u001b[38;5;33mConv2D\u001b[0m)                    │ (\u001b[38;5;45mNone\u001b[0m, \u001b[38;5;34m167\u001b[0m, \u001b[38;5;34m1\u001b[0m, \u001b[38;5;34m512\u001b[0m)         │       \u001b[38;5;34m1,180,160\u001b[0m │\n",
       "├──────────────────────────────────────┼─────────────────────────────┼─────────────────┤\n",
       "│ average_pooling2d_9                  │ (\u001b[38;5;45mNone\u001b[0m, \u001b[38;5;34m167\u001b[0m, \u001b[38;5;34m1\u001b[0m, \u001b[38;5;34m512\u001b[0m)         │               \u001b[38;5;34m0\u001b[0m │\n",
       "│ (\u001b[38;5;33mAveragePooling2D\u001b[0m)                   │                             │                 │\n",
       "├──────────────────────────────────────┼─────────────────────────────┼─────────────────┤\n",
       "│ flatten_1 (\u001b[38;5;33mFlatten\u001b[0m)                  │ (\u001b[38;5;45mNone\u001b[0m, \u001b[38;5;34m85504\u001b[0m)               │               \u001b[38;5;34m0\u001b[0m │\n",
       "├──────────────────────────────────────┼─────────────────────────────┼─────────────────┤\n",
       "│ dense_2 (\u001b[38;5;33mDense\u001b[0m)                      │ (\u001b[38;5;45mNone\u001b[0m, \u001b[38;5;34m1024\u001b[0m)                │      \u001b[38;5;34m87,557,120\u001b[0m │\n",
       "├──────────────────────────────────────┼─────────────────────────────┼─────────────────┤\n",
       "│ dropout_1 (\u001b[38;5;33mDropout\u001b[0m)                  │ (\u001b[38;5;45mNone\u001b[0m, \u001b[38;5;34m1024\u001b[0m)                │               \u001b[38;5;34m0\u001b[0m │\n",
       "├──────────────────────────────────────┼─────────────────────────────┼─────────────────┤\n",
       "│ dense_3 (\u001b[38;5;33mDense\u001b[0m)                      │ (\u001b[38;5;45mNone\u001b[0m, \u001b[38;5;34m8\u001b[0m)                   │           \u001b[38;5;34m8,200\u001b[0m │\n",
       "└──────────────────────────────────────┴─────────────────────────────┴─────────────────┘\n"
      ]
     },
     "metadata": {},
     "output_type": "display_data"
    },
    {
     "data": {
      "text/html": [
       "<pre style=\"white-space:pre;overflow-x:auto;line-height:normal;font-family:Menlo,'DejaVu Sans Mono',consolas,'Courier New',monospace\"><span style=\"font-weight: bold\"> Total params: </span><span style=\"color: #00af00; text-decoration-color: #00af00\">89,133,320</span> (340.02 MB)\n",
       "</pre>\n"
      ],
      "text/plain": [
       "\u001b[1m Total params: \u001b[0m\u001b[38;5;34m89,133,320\u001b[0m (340.02 MB)\n"
      ]
     },
     "metadata": {},
     "output_type": "display_data"
    },
    {
     "data": {
      "text/html": [
       "<pre style=\"white-space:pre;overflow-x:auto;line-height:normal;font-family:Menlo,'DejaVu Sans Mono',consolas,'Courier New',monospace\"><span style=\"font-weight: bold\"> Trainable params: </span><span style=\"color: #00af00; text-decoration-color: #00af00\">89,133,320</span> (340.02 MB)\n",
       "</pre>\n"
      ],
      "text/plain": [
       "\u001b[1m Trainable params: \u001b[0m\u001b[38;5;34m89,133,320\u001b[0m (340.02 MB)\n"
      ]
     },
     "metadata": {},
     "output_type": "display_data"
    },
    {
     "data": {
      "text/html": [
       "<pre style=\"white-space:pre;overflow-x:auto;line-height:normal;font-family:Menlo,'DejaVu Sans Mono',consolas,'Courier New',monospace\"><span style=\"font-weight: bold\"> Non-trainable params: </span><span style=\"color: #00af00; text-decoration-color: #00af00\">0</span> (0.00 B)\n",
       "</pre>\n"
      ],
      "text/plain": [
       "\u001b[1m Non-trainable params: \u001b[0m\u001b[38;5;34m0\u001b[0m (0.00 B)\n"
      ]
     },
     "metadata": {},
     "output_type": "display_data"
    }
   ],
   "source": [
    "model = build_cnn((x_train.shape[1],1,1))\n",
    "model.summary()"
   ]
  },
  {
   "cell_type": "code",
   "execution_count": 77,
   "id": "1d8360f6-36a8-48ad-b153-a8a6a2e3242d",
   "metadata": {},
   "outputs": [],
   "source": [
    "from tensorflow.keras.callbacks import ModelCheckpoint"
   ]
  },
  {
   "cell_type": "code",
   "execution_count": 78,
   "id": "41ff230b-3c56-4918-9e26-3f636b340d01",
   "metadata": {},
   "outputs": [],
   "source": [
    "from tensorflow.keras.callbacks import ReduceLROnPlateau"
   ]
  },
  {
   "cell_type": "markdown",
   "id": "142eefec-2452-41b2-894c-f0810ba2e3be",
   "metadata": {},
   "source": [
    "# Model Checkpoint"
   ]
  },
  {
   "cell_type": "code",
   "execution_count": null,
   "id": "f4e641b7-d842-40cf-ba10-122e41e11259",
   "metadata": {},
   "outputs": [],
   "source": [
    "checkpoint = ModelCheckpoint(\"model_weights.weights.h5\",\n",
    "                       monitor = 'val_accuracy',\n",
    "                       save_weights_only=True,\n",
    "                            mode= 'max')\n",
    "lr_scheduler = ReduceLROnPlateau(monitor = 'val_loss' , factor = 0.5 , patience=3 , verbose =1)\n",
    "callback = [checkpoint , lr_scheduler]"
   ]
  },
  {
   "cell_type": "code",
   "execution_count": null,
   "id": "da7fee20-9d15-45d2-af29-c3ea25239c5e",
   "metadata": {},
   "outputs": [],
   "source": [
    "history = model.fit(x_train, y_train, epochs=50, batch_size=32, validation_data=(x_test, y_test),callbacks=callback)"
   ]
  },
  {
   "cell_type": "markdown",
   "id": "94bdfe79-9462-48f8-90de-e13d230f8331",
   "metadata": {},
   "source": [
    "# Final Enhanced Model"
   ]
  },
  {
   "cell_type": "code",
   "execution_count": 98,
   "id": "8a5f142c-3a87-4864-8367-bce6264a227d",
   "metadata": {},
   "outputs": [
    {
     "name": "stdout",
     "output_type": "stream",
     "text": [
      "Model Loaded Successfully\n"
     ]
    }
   ],
   "source": [
    "from tensorflow.keras.models import model_from_json\n",
    "\n",
    "with open(\"Voice_detection_model11_feb.json\", \"r\") as json_file:\n",
    "    json_model = json_file.read()\n",
    "loaded_model = model_from_json(json_model)\n",
    "loaded_model.load_weights(\"model_11feb_weights.weights.h5\")\n",
    "loaded_model.compile(optimizer='adam', loss='categorical_crossentropy', metrics=['accuracy'])\n",
    "print(\"Model Loaded Successfully\")"
   ]
  },
  {
   "cell_type": "code",
   "execution_count": 100,
   "id": "fadb9fb9-dfec-470c-a9f9-206fa9a47567",
   "metadata": {},
   "outputs": [
    {
     "name": "stdout",
     "output_type": "stream",
     "text": [
      "\u001b[1m8/8\u001b[0m \u001b[32m━━━━━━━━━━━━━━━━━━━━\u001b[0m\u001b[37m\u001b[0m \u001b[1m6s\u001b[0m 290ms/step - accuracy: 0.7409 - loss: 1.3878\n"
     ]
    },
    {
     "data": {
      "text/plain": [
       "[1.5716071128845215, 0.7023809552192688]"
      ]
     },
     "execution_count": 100,
     "metadata": {},
     "output_type": "execute_result"
    }
   ],
   "source": [
    "loaded_model.evaluate(x = x_test , y = y_test)"
   ]
  },
  {
   "cell_type": "code",
   "execution_count": 102,
   "id": "148cabfd-b061-448f-83ba-ed3940f7dfd1",
   "metadata": {},
   "outputs": [
    {
     "name": "stdout",
     "output_type": "stream",
     "text": [
      "\u001b[1m8/8\u001b[0m \u001b[32m━━━━━━━━━━━━━━━━━━━━\u001b[0m\u001b[37m\u001b[0m \u001b[1m6s\u001b[0m 392ms/step\n"
     ]
    }
   ],
   "source": [
    "y_pred = loaded_model.predict(x_test)"
   ]
  },
  {
   "cell_type": "code",
   "execution_count": 103,
   "id": "dc841f62-3c32-4d81-8dde-f9564341cc3e",
   "metadata": {},
   "outputs": [],
   "source": [
    "from sklearn.metrics import confusion_matrix , accuracy_score\n",
    "import seaborn as sns"
   ]
  },
  {
   "cell_type": "code",
   "execution_count": 106,
   "id": "d9de2193-08e1-4090-b90f-6aae1d0d0e48",
   "metadata": {},
   "outputs": [],
   "source": [
    "y_pred_labels = (y_pred > 0.5).astype(int)"
   ]
  },
  {
   "cell_type": "code",
   "execution_count": 108,
   "id": "9bcc33f8-0959-4563-a02a-6d086f95c5b4",
   "metadata": {},
   "outputs": [
    {
     "data": {
      "text/plain": [
       "array([[0, 0, 0, ..., 0, 0, 0],\n",
       "       [0, 0, 0, ..., 0, 0, 0],\n",
       "       [0, 0, 0, ..., 0, 0, 1],\n",
       "       ...,\n",
       "       [0, 0, 0, ..., 0, 1, 0],\n",
       "       [0, 0, 0, ..., 0, 0, 0],\n",
       "       [0, 0, 1, ..., 0, 0, 0]])"
      ]
     },
     "execution_count": 108,
     "metadata": {},
     "output_type": "execute_result"
    }
   ],
   "source": [
    "y_pred_labels"
   ]
  },
  {
   "cell_type": "code",
   "execution_count": 110,
   "id": "30609b09-3619-4554-a84f-c31445b7b418",
   "metadata": {},
   "outputs": [],
   "source": [
    "from sklearn.metrics import multilabel_confusion_matrix\n",
    "cm = multilabel_confusion_matrix(y_test, y_pred_labels)"
   ]
  },
  {
   "cell_type": "code",
   "execution_count": 112,
   "id": "8a032f7f-4926-4303-8ee5-d65a9533cf7b",
   "metadata": {},
   "outputs": [
    {
     "name": "stdout",
     "output_type": "stream",
     "text": [
      "Accuracy: 67.85714285714286 %\n"
     ]
    }
   ],
   "source": [
    "accuracy = accuracy_score(y_test , y_pred_labels)\n",
    "print(\"Accuracy:\",accuracy*100,\"%\")"
   ]
  },
  {
   "cell_type": "code",
   "execution_count": 114,
   "id": "aaef7834-fa80-4158-afa6-e171b31081ef",
   "metadata": {},
   "outputs": [
    {
     "data": {
      "text/plain": [
       "array([[205,   9],\n",
       "       [ 12,  26]], dtype=int64)"
      ]
     },
     "execution_count": 114,
     "metadata": {},
     "output_type": "execute_result"
    }
   ],
   "source": [
    "cm[0]"
   ]
  },
  {
   "cell_type": "code",
   "execution_count": 115,
   "id": "54420fd3-32b8-4311-b442-bf130b02fda6",
   "metadata": {},
   "outputs": [
    {
     "data": {
      "text/plain": [
       "array([[216,   9],\n",
       "       [  5,  22]], dtype=int64)"
      ]
     },
     "execution_count": 115,
     "metadata": {},
     "output_type": "execute_result"
    }
   ],
   "source": [
    "\n",
    "cm[1]"
   ]
  },
  {
   "cell_type": "code",
   "execution_count": 118,
   "id": "5d03a7d9-af28-4f86-9c40-e28f44659d76",
   "metadata": {},
   "outputs": [
    {
     "data": {
      "text/plain": [
       "array([[204,  10],\n",
       "       [ 10,  28]], dtype=int64)"
      ]
     },
     "execution_count": 118,
     "metadata": {},
     "output_type": "execute_result"
    }
   ],
   "source": [
    "cm[7]"
   ]
  },
  {
   "cell_type": "code",
   "execution_count": 120,
   "id": "7bcd2b4c-5f79-420f-bf9f-6354c219723e",
   "metadata": {},
   "outputs": [
    {
     "name": "stderr",
     "output_type": "stream",
     "text": [
      "WARNING:absl:You are saving your model as an HDF5 file via `model.save()` or `keras.saving.save_model(model)`. This file format is considered legacy. We recommend using instead the native Keras format, e.g. `model.save('my_model.keras')` or `keras.saving.save_model(model, 'my_model.keras')`. \n"
     ]
    }
   ],
   "source": [
    "loaded_model.save(\"Final_detection_model.h5\")"
   ]
  },
  {
   "cell_type": "markdown",
   "id": "b234ae22-e363-4c0f-a8b3-63b16a7c818a",
   "metadata": {},
   "source": [
    "# GUI"
   ]
  },
  {
   "cell_type": "code",
   "execution_count": null,
   "id": "a53e2a72-93a3-4696-bbe4-36386ebd85f9",
   "metadata": {},
   "outputs": [],
   "source": [
    "import tensorflow \n",
    "from tensorflow.keras.models import model_from_json"
   ]
  },
  {
   "cell_type": "code",
   "execution_count": null,
   "id": "584f9ec1-b57a-4109-a223-d2d7209f0e5c",
   "metadata": {},
   "outputs": [],
   "source": [
    "!pip install pyaudio"
   ]
  },
  {
   "cell_type": "code",
   "execution_count": null,
   "id": "b40d0927-a59f-43f6-a67d-15d5595d0556",
   "metadata": {},
   "outputs": [],
   "source": [
    "!pip install sounddevice"
   ]
  },
  {
   "cell_type": "code",
   "execution_count": null,
   "id": "fb332162-db26-4a2f-9985-6e725946a86b",
   "metadata": {},
   "outputs": [],
   "source": [
    "import sounddevice as sd"
   ]
  },
  {
   "cell_type": "code",
   "execution_count": null,
   "id": "efccbc32-4bc1-4ce3-b8f9-010d8ed039dc",
   "metadata": {},
   "outputs": [],
   "source": [
    "import tkinter as tk\n",
    "from tkinter import filedialog, messagebox\n",
    "import numpy as np\n",
    "import librosa\n",
    "import sounddevice as sd\n",
    "import wave\n",
    "import tensorflow as tf\n",
    "from tensorflow.keras.models import model_from_json\n",
    "from sklearn.preprocessing import LabelEncoder\n",
    "\n",
    "# Load the trained model\n",
    "with open(\"Voice_detection_model11_feb.json\", \"r\") as json_file:\n",
    "    json_model = json_file.read()\n",
    "loaded_model = model_from_json(json_model)\n",
    "loaded_model.load_weights(\"model_11feb_weights.weights.h5\")\n",
    "loaded_model.compile(optimizer='adam', loss='categorical_crossentropy', metrics=['accuracy'])\n",
    "print(\"Model Loaded Successfully\")\n",
    "\n",
    "emotion_dict = {\n",
    "    '01': 'Neutral', '02': 'Calm', '03': 'Happy', '04': 'Sad', \n",
    "    '05': 'Angry', '06': 'Fearful', '07': 'Disgust', '08': 'Surprised'\n",
    "}\n",
    "\n",
    "label_encoder = LabelEncoder()\n",
    "label_encoder.fit(list(emotion_dict.values()))\n",
    "\n",
    "def detect_gender(file_path):\n",
    "    try:\n",
    "        y , sr = librosa.load(file_path , sr = 22050)\n",
    "        f0,_,_ = librosa.pyin(y , fmin = 85 , fmax = 300)\n",
    "        f0 = f0[~np.isnan(f0)]\n",
    "        if len(f0)==0:\n",
    "            return \"Unknown\"\n",
    "        avg_pitch = np.mean(f0)\n",
    "        return \"Female\" if avg_pitch>165 else \"Male\"\n",
    "    except Exception as e:\n",
    "        print(e)\n",
    "        return \"Unknown\"\n",
    "\n",
    "def predict_emotion(file_path):\n",
    "    gender = detect_gender(file_path)\n",
    "    if gender == \"Unknown\":\n",
    "        messagebox.showerror(\"Error\")\n",
    "        return \"Invalid\"\n",
    "    y, sr = librosa.load(file_path, duration=4, sr=22050)\n",
    "    \n",
    "    mfcc = librosa.feature.mfcc(y=y, sr=sr, n_mfcc=20)\n",
    "    chroma = librosa.feature.chroma_stft(y=y, sr=sr)\n",
    "    mel = librosa.feature.melspectrogram(y=y, sr=sr)\n",
    "    contrast = librosa.feature.spectral_contrast(y=y, sr=sr) \n",
    "    mfcc = np.mean(mfcc.T, axis=0)\n",
    "    chroma = np.mean(chroma.T, axis=0)\n",
    "    mel = np.mean(mel.T, axis=0)\n",
    "    contrast = np.mean(contrast.T, axis=0)\n",
    "\n",
    "    features = np.hstack([mfcc, chroma, mel, contrast])\n",
    "    \n",
    "    features = features.reshape(1, features.shape[0], 1, 1)\n",
    "\n",
    "    prediction = loaded_model.predict(features)\n",
    "    predicted_index = np.argmax(prediction) + 1  # Ensure it starts from '01'\n",
    "    \n",
    "    predicted_emotion = emotion_dict.get(f\"{predicted_index:02d}\", \"Unknown\")\n",
    "    return gender , predicted_emotion\n",
    "\n",
    "def upload_audio():\n",
    "    file_path = filedialog.askopenfilename(filetypes=[(\"WAV files\", \"*.wav\")])\n",
    "    if file_path:\n",
    "        gender , emotion = predict_emotion(file_path)\n",
    "        if emotion != \"Invalid\":\n",
    "            result_label.config(text=f\"Gender:{gender}\\nEmotion Detected: {emotion}\", fg=\"green\")\n",
    "\n",
    "# Function to record audio\n",
    "def record_audio():\n",
    "    fs = 22050  # Sampling frequency\n",
    "    seconds = 4  # Duration of recording\n",
    "    messagebox.showinfo(\"Recording\", \"Recording for 4 seconds. Speak now...\")\n",
    "\n",
    "    try:\n",
    "        recording = sd.rec(int(seconds * fs), samplerate=fs, channels=1, dtype=np.int16)\n",
    "        sd.wait()\n",
    "    \n",
    "        file_path = \"recorded_audio.wav\"\n",
    "        \n",
    "        # Save recorded audio using the built-in wave module\n",
    "        with wave.open(file_path, 'wb') as wf:\n",
    "            wf.setnchannels(1)\n",
    "            wf.setsampwidth(2)  # 16-bit audio\n",
    "            wf.setframerate(fs)\n",
    "            wf.writeframes(recording.tobytes())\n",
    "    \n",
    "        gender , emotion = predict_emotion(file_path)\n",
    "        if emotion != \"Invalid\":\n",
    "            result_label.config(text=f\"Gender:{gender}\\n Emotion Detected: {emotion}\", fg=\"green\")\n",
    "    except Exception as e:\n",
    "        messagebox.showerror(\"Error\",f\"Recording Failed: {str(e)}\")\n",
    "root = tk.Tk()\n",
    "root.title(\"Emotion Detection from Female Voice\")\n",
    "root.geometry(\"400x300\")\n",
    "\n",
    "upload_button = tk.Button(root, text=\"Upload Voice Note\", command=upload_audio, width=25 , bg=\"#4CAF50\",fg = \"white\")\n",
    "upload_button.pack(pady=10)\n",
    "\n",
    "record_button = tk.Button(root, text=\"Record Voice\", command=record_audio, width=25,bg = \"#008CBA\",fg = \"white\")\n",
    "record_button.pack(pady=10)\n",
    "\n",
    "result_label = tk.Label(root, text=\"\", font=(\"Arial\", 12))\n",
    "result_label.pack(pady=20)\n",
    "\n",
    "root.mainloop()\n"
   ]
  },
  {
   "cell_type": "code",
   "execution_count": null,
   "id": "98735fad-911c-4a54-9c91-940dbf9ea0b4",
   "metadata": {},
   "outputs": [],
   "source": []
  }
 ],
 "metadata": {
  "kernelspec": {
   "display_name": "Python 3 (ipykernel)",
   "language": "python",
   "name": "python3"
  },
  "language_info": {
   "codemirror_mode": {
    "name": "ipython",
    "version": 3
   },
   "file_extension": ".py",
   "mimetype": "text/x-python",
   "name": "python",
   "nbconvert_exporter": "python",
   "pygments_lexer": "ipython3",
   "version": "3.12.4"
  }
 },
 "nbformat": 4,
 "nbformat_minor": 5
}
